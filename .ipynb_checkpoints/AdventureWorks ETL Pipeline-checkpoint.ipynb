{
 "cells": [
  {
   "cell_type": "markdown",
   "id": "259898e8",
   "metadata": {},
   "source": [
    "# AdventureWorks ETL Pipeline\n",
    "## By Sonika Modur\n",
    "[Insert description here]"
   ]
  },
  {
   "cell_type": "markdown",
   "id": "51bb18f5",
   "metadata": {},
   "source": [
    "### Import Necessary Libraries"
   ]
  },
  {
   "cell_type": "code",
   "execution_count": 1,
   "id": "f706c279",
   "metadata": {},
   "outputs": [],
   "source": [
    "import os\n",
    "import numpy\n",
    "import pandas as pd\n",
    "import datetime\n",
    "import certifi\n",
    "\n",
    "import pymongo\n",
    "import sqlalchemy\n",
    "from sqlalchemy import create_engine, text"
   ]
  },
  {
   "cell_type": "code",
   "execution_count": 2,
   "id": "27b760ef",
   "metadata": {},
   "outputs": [
    {
     "name": "stdout",
     "output_type": "stream",
     "text": [
      "Running SQL Alchemy Version: 1.4.7\n",
      "Running PyMongo Version: 4.10.1\n"
     ]
    }
   ],
   "source": [
    "print(f\"Running SQL Alchemy Version: {sqlalchemy.__version__}\")\n",
    "print(f\"Running PyMongo Version: {pymongo.__version__}\")"
   ]
  },
  {
   "cell_type": "markdown",
   "id": "31326af9",
   "metadata": {},
   "source": [
    "### Declare and Assign Connection Variables for MySQL Server and Databases"
   ]
  },
  {
   "cell_type": "code",
   "execution_count": 3,
   "id": "97199507",
   "metadata": {},
   "outputs": [],
   "source": [
    "src_mysql_args = {\n",
    "    \"uid\" : \"root\",\n",
    "    \"pwd\" : \"PASSWORD123!\",\n",
    "    \"hostname\" : \"localhost\",\n",
    "    \"dbname\" : \"adventureworks\"\n",
    "}\n",
    "\n",
    "dst_mysql_args = {\n",
    "    \"uid\" : \"root\",\n",
    "    \"pwd\" : \"PASSWORD123!\",\n",
    "    \"hostname\" : \"localhost\",\n",
    "    \"dbname\" : \"adventureworks_dw\"\n",
    "}"
   ]
  },
  {
   "cell_type": "markdown",
   "id": "e6f91a44",
   "metadata": {},
   "source": [
    "### Declare Functions for Getting Data From and Setting Data Into Databases (MySQL)"
   ]
  },
  {
   "cell_type": "code",
   "execution_count": 4,
   "id": "36a13ff4",
   "metadata": {},
   "outputs": [],
   "source": [
    "def get_sql_dataframe(sql_query, **args):\n",
    "    '''Create a connection to the MySQL database'''\n",
    "    conn_str = f\"mysql+pymysql://{args['uid']}:{args['pwd']}@{args['hostname']}/{args['dbname']}\"\n",
    "    sqlEngine = create_engine(conn_str, pool_recycle=3600)\n",
    "    connection = sqlEngine.connect()\n",
    "    \n",
    "    '''Invoke the pd.read_sql() function to query the database, and fill a Pandas DataFrame.'''\n",
    "    dframe = pd.read_sql(text(sql_query), connection);\n",
    "    connection.close()\n",
    "    \n",
    "    return dframe\n",
    "\n",
    "def set_dataframe(df, table_name, pk_column, db_operation, **args):\n",
    "    '''Create a connection to the MySQL database'''\n",
    "    conn_str = f\"mysql+pymysql://{args['uid']}:{args['pwd']}@{args['hostname']}/{args['dbname']}\"\n",
    "    sqlEngine = create_engine(conn_str, pool_recycle=3600)\n",
    "    connection = sqlEngine.connect()\n",
    "    \n",
    "    '''Invoke the Pandas DataFrame .to_sql( ) function to either create, or append to, a table'''\n",
    "    if db_operation == \"insert\":\n",
    "        df.to_sql(table_name, con=connection, index=False, if_exists='replace')\n",
    "        connection.execute(text(f\"ALTER TABLE {table_name} ADD PRIMARY KEY ({pk_column});\"))\n",
    "            \n",
    "    elif db_operation == \"update\":\n",
    "        df.to_sql(table_name, con=connection, index=False, if_exists='append')\n",
    "    \n",
    "    connection.close()"
   ]
  },
  {
   "cell_type": "markdown",
   "id": "3a6f7734",
   "metadata": {},
   "source": [
    "### Create the AdventureWorks Data Warehouse"
   ]
  },
  {
   "cell_type": "code",
   "execution_count": 5,
   "id": "46583297",
   "metadata": {},
   "outputs": [],
   "source": [
    "conn_str = f\"mysql+pymysql://{dst_mysql_args['uid']}:{dst_mysql_args['pwd']}@{dst_mysql_args['hostname']}\"\n",
    "sqlEngine = create_engine(conn_str, pool_recycle=3600)\n",
    "connection = sqlEngine.connect()\n",
    "\n",
    "connection.execute(text(f\"DROP DATABASE IF EXISTS `{dst_mysql_args['dbname']}`;\"))\n",
    "connection.execute(text(f\"CREATE DATABASE `{dst_mysql_args['dbname']}`;\"))\n",
    "connection.execute(text(f\"USE {dst_mysql_args['dbname']};\"))\n",
    "\n",
    "connection.close()"
   ]
  },
  {
   "cell_type": "code",
   "execution_count": null,
   "id": "95805397",
   "metadata": {},
   "outputs": [],
   "source": []
  }
 ],
 "metadata": {
  "kernelspec": {
   "display_name": "Python 3",
   "language": "python",
   "name": "python3"
  },
  "language_info": {
   "codemirror_mode": {
    "name": "ipython",
    "version": 3
   },
   "file_extension": ".py",
   "mimetype": "text/x-python",
   "name": "python",
   "nbconvert_exporter": "python",
   "pygments_lexer": "ipython3",
   "version": "3.8.8"
  }
 },
 "nbformat": 4,
 "nbformat_minor": 5
}
