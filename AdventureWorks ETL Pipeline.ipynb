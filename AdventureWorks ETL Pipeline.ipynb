{
 "cells": [
  {
   "cell_type": "markdown",
   "id": "a5b0d6fb",
   "metadata": {},
   "source": [
    "# AdventureWorks ETL Pipeline\n",
    "## By Sonika Modur\n",
    "[Insert description here]"
   ]
  },
  {
   "cell_type": "markdown",
   "id": "96f2d0f1",
   "metadata": {},
   "source": [
    "### Import Necessary Libraries"
   ]
  },
  {
   "cell_type": "code",
   "execution_count": 1,
   "id": "71599f3e",
   "metadata": {},
   "outputs": [],
   "source": [
    "import os\n",
    "import numpy\n",
    "import pandas as pd\n",
    "import datetime\n",
    "import certifi\n",
    "\n",
    "import pymongo\n",
    "import sqlalchemy\n",
    "from sqlalchemy import create_engine, text"
   ]
  },
  {
   "cell_type": "code",
   "execution_count": 2,
   "id": "9f4cd858",
   "metadata": {},
   "outputs": [
    {
     "name": "stdout",
     "output_type": "stream",
     "text": [
      "Running SQL Alchemy Version: 1.4.7\n",
      "Running PyMongo Version: 4.10.1\n"
     ]
    }
   ],
   "source": [
    "print(f\"Running SQL Alchemy Version: {sqlalchemy.__version__}\")\n",
    "print(f\"Running PyMongo Version: {pymongo.__version__}\")"
   ]
  },
  {
   "cell_type": "markdown",
   "id": "9a456f4a",
   "metadata": {},
   "source": [
    "### Declare and Assign Connection Variables for MySQL Server and Databases"
   ]
  },
  {
   "cell_type": "code",
   "execution_count": 3,
   "id": "2c38a794",
   "metadata": {},
   "outputs": [],
   "source": [
    "src_mysql_args = {\n",
    "    \"uid\" : \"root\",\n",
    "    \"pwd\" : \"PASSWORD123!\",\n",
    "    \"hostname\" : \"localhost\",\n",
    "    \"dbname\" : \"adventureworks\"\n",
    "}\n",
    "\n",
    "dst_mysql_args = {\n",
    "    \"uid\" : \"root\",\n",
    "    \"pwd\" : \"PASSWORD123!\",\n",
    "    \"hostname\" : \"localhost\",\n",
    "    \"dbname\" : \"adventureworks_dw\"\n",
    "}"
   ]
  },
  {
   "cell_type": "code",
   "execution_count": null,
   "id": "ec88e87c",
   "metadata": {},
   "outputs": [],
   "source": []
  }
 ],
 "metadata": {
  "kernelspec": {
   "display_name": "Python 3",
   "language": "python",
   "name": "python3"
  },
  "language_info": {
   "codemirror_mode": {
    "name": "ipython",
    "version": 3
   },
   "file_extension": ".py",
   "mimetype": "text/x-python",
   "name": "python",
   "nbconvert_exporter": "python",
   "pygments_lexer": "ipython3",
   "version": "3.8.8"
  }
 },
 "nbformat": 4,
 "nbformat_minor": 5
}
