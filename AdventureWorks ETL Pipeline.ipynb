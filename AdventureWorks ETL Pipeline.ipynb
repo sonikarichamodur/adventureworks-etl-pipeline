{
 "cells": [
  {
   "cell_type": "markdown",
   "id": "d2ac048c",
   "metadata": {},
   "source": [
    "# AdventureWorks ETL Pipeline\n",
    "## By Sonika Modur\n",
    "[Insert description here]"
   ]
  },
  {
   "cell_type": "markdown",
   "id": "f0305b73",
   "metadata": {},
   "source": [
    "### Import Necessary Libraries"
   ]
  },
  {
   "cell_type": "code",
   "execution_count": 1,
   "id": "767477a9",
   "metadata": {},
   "outputs": [],
   "source": [
    "import os\n",
    "import numpy\n",
    "import pandas as pd\n",
    "import datetime\n",
    "import certifi\n",
    "\n",
    "import pymongo\n",
    "import sqlalchemy\n",
    "from sqlalchemy import create_engine, text"
   ]
  },
  {
   "cell_type": "code",
   "execution_count": 2,
   "id": "450336c2",
   "metadata": {},
   "outputs": [
    {
     "name": "stdout",
     "output_type": "stream",
     "text": [
      "Running SQL Alchemy Version: 1.4.7\n",
      "Running PyMongo Version: 4.10.1\n"
     ]
    }
   ],
   "source": [
    "print(f\"Running SQL Alchemy Version: {sqlalchemy.__version__}\")\n",
    "print(f\"Running PyMongo Version: {pymongo.__version__}\")"
   ]
  },
  {
   "cell_type": "markdown",
   "id": "855ce0aa",
   "metadata": {},
   "source": [
    "### Declare and Assign Connection Variables for MySQL Server and Databases"
   ]
  },
  {
   "cell_type": "code",
   "execution_count": 3,
   "id": "28baf4fe",
   "metadata": {},
   "outputs": [],
   "source": [
    "src_mysql_args = {\n",
    "    \"uid\" : \"root\",\n",
    "    \"pwd\" : \"PASSWORD123!\",\n",
    "    \"hostname\" : \"localhost\",\n",
    "    \"dbname\" : \"adventureworks\"\n",
    "}\n",
    "\n",
    "dst_mysql_args = {\n",
    "    \"uid\" : \"root\",\n",
    "    \"pwd\" : \"PASSWORD123!\",\n",
    "    \"hostname\" : \"localhost\",\n",
    "    \"dbname\" : \"adventureworks_dw\"\n",
    "}"
   ]
  },
  {
   "cell_type": "markdown",
   "id": "b2195958",
   "metadata": {},
   "source": [
    "### Declare Functions for Getting Data From and Setting Data Into Databases (MySQL)"
   ]
  },
  {
   "cell_type": "code",
   "execution_count": 4,
   "id": "076f697a",
   "metadata": {},
   "outputs": [],
   "source": [
    "def get_sql_dataframe(sql_query, **args):\n",
    "    '''Create a connection to the MySQL database'''\n",
    "    conn_str = f\"mysql+pymysql://{args['uid']}:{args['pwd']}@{args['hostname']}/{args['dbname']}\"\n",
    "    sqlEngine = create_engine(conn_str, pool_recycle=3600)\n",
    "    connection = sqlEngine.connect()\n",
    "    \n",
    "    '''Invoke the pd.read_sql() function to query the database, and fill a Pandas DataFrame.'''\n",
    "    dframe = pd.read_sql(text(sql_query), connection);\n",
    "    connection.close()\n",
    "    \n",
    "    return dframe\n",
    "\n",
    "def set_dataframe(df, table_name, pk_column, db_operation, **args):\n",
    "    '''Create a connection to the MySQL database'''\n",
    "    conn_str = f\"mysql+pymysql://{args['uid']}:{args['pwd']}@{args['hostname']}/{args['dbname']}\"\n",
    "    sqlEngine = create_engine(conn_str, pool_recycle=3600)\n",
    "    connection = sqlEngine.connect()\n",
    "    \n",
    "    '''Invoke the Pandas DataFrame .to_sql( ) function to either create, or append to, a table'''\n",
    "    if db_operation == \"insert\":\n",
    "        df.to_sql(table_name, con=connection, index=False, if_exists='replace')\n",
    "        connection.execute(text(f\"ALTER TABLE {table_name} ADD PRIMARY KEY ({pk_column});\"))\n",
    "            \n",
    "    elif db_operation == \"update\":\n",
    "        df.to_sql(table_name, con=connection, index=False, if_exists='append')\n",
    "    \n",
    "    connection.close()"
   ]
  },
  {
   "cell_type": "markdown",
   "id": "0c45697c",
   "metadata": {},
   "source": [
    "### Create the AdventureWorks Data Warehouse"
   ]
  },
  {
   "cell_type": "code",
   "execution_count": 5,
   "id": "d55bba78",
   "metadata": {},
   "outputs": [],
   "source": [
    "conn_str = f\"mysql+pymysql://{dst_mysql_args['uid']}:{dst_mysql_args['pwd']}@{dst_mysql_args['hostname']}\"\n",
    "sqlEngine = create_engine(conn_str, pool_recycle=3600)\n",
    "connection = sqlEngine.connect()\n",
    "\n",
    "connection.execute(text(f\"DROP DATABASE IF EXISTS `{dst_mysql_args['dbname']}`;\"))\n",
    "connection.execute(text(f\"CREATE DATABASE `{dst_mysql_args['dbname']}`;\"))\n",
    "connection.execute(text(f\"USE {dst_mysql_args['dbname']};\"))\n",
    "\n",
    "connection.close()"
   ]
  },
  {
   "cell_type": "markdown",
   "id": "0e0e8ca9",
   "metadata": {},
   "source": [
    "### ETL Process for MySQL"
   ]
  },
  {
   "cell_type": "markdown",
   "id": "783e52eb",
   "metadata": {},
   "source": [
    "#### Extract step: Create & populate customer dimension table"
   ]
  },
  {
   "cell_type": "code",
   "execution_count": 6,
   "id": "b2963e69",
   "metadata": {},
   "outputs": [
    {
     "data": {
      "text/html": [
       "<div>\n",
       "<style scoped>\n",
       "    .dataframe tbody tr th:only-of-type {\n",
       "        vertical-align: middle;\n",
       "    }\n",
       "\n",
       "    .dataframe tbody tr th {\n",
       "        vertical-align: top;\n",
       "    }\n",
       "\n",
       "    .dataframe thead th {\n",
       "        text-align: right;\n",
       "    }\n",
       "</style>\n",
       "<table border=\"1\" class=\"dataframe\">\n",
       "  <thead>\n",
       "    <tr style=\"text-align: right;\">\n",
       "      <th></th>\n",
       "      <th>CustomerID</th>\n",
       "      <th>TerritoryID</th>\n",
       "      <th>AccountNumber</th>\n",
       "      <th>CustomerType</th>\n",
       "      <th>rowguid</th>\n",
       "      <th>ModifiedDate</th>\n",
       "    </tr>\n",
       "  </thead>\n",
       "  <tbody>\n",
       "    <tr>\n",
       "      <th>0</th>\n",
       "      <td>1</td>\n",
       "      <td>1</td>\n",
       "      <td>AW00000001</td>\n",
       "      <td>S</td>\n",
       "      <td>b'^\\xe9Z?}\\xb8\\xedJ\\x95\\xb4\\xc3yz\\xfc\\xb7O'</td>\n",
       "      <td>2004-10-13 11:15:07</td>\n",
       "    </tr>\n",
       "    <tr>\n",
       "      <th>1</th>\n",
       "      <td>2</td>\n",
       "      <td>1</td>\n",
       "      <td>AW00000002</td>\n",
       "      <td>S</td>\n",
       "      <td>b'W\\xf6R\\xe5\\xaf\\xa9}J\\xa6E\\xc4)\\xd6\\xe0$\\x91'</td>\n",
       "      <td>2004-10-13 11:15:07</td>\n",
       "    </tr>\n",
       "  </tbody>\n",
       "</table>\n",
       "</div>"
      ],
      "text/plain": [
       "   CustomerID  TerritoryID AccountNumber CustomerType  \\\n",
       "0           1            1    AW00000001            S   \n",
       "1           2            1    AW00000002            S   \n",
       "\n",
       "                                          rowguid        ModifiedDate  \n",
       "0     b'^\\xe9Z?}\\xb8\\xedJ\\x95\\xb4\\xc3yz\\xfc\\xb7O' 2004-10-13 11:15:07  \n",
       "1  b'W\\xf6R\\xe5\\xaf\\xa9}J\\xa6E\\xc4)\\xd6\\xe0$\\x91' 2004-10-13 11:15:07  "
      ]
     },
     "execution_count": 6,
     "metadata": {},
     "output_type": "execute_result"
    }
   ],
   "source": [
    "sql_customers = \"SELECT * FROM adventureworks.customer;\"\n",
    "df_customers = get_sql_dataframe(sql_customers, **src_mysql_args)\n",
    "df_customers.head(2)"
   ]
  },
  {
   "cell_type": "markdown",
   "id": "e9bd4450",
   "metadata": {},
   "source": [
    "#### Transform step: drop/rename columns in customer dimension table"
   ]
  },
  {
   "cell_type": "code",
   "execution_count": 7,
   "id": "ca006f29",
   "metadata": {
    "scrolled": true
   },
   "outputs": [
    {
     "data": {
      "text/html": [
       "<div>\n",
       "<style scoped>\n",
       "    .dataframe tbody tr th:only-of-type {\n",
       "        vertical-align: middle;\n",
       "    }\n",
       "\n",
       "    .dataframe tbody tr th {\n",
       "        vertical-align: top;\n",
       "    }\n",
       "\n",
       "    .dataframe thead th {\n",
       "        text-align: right;\n",
       "    }\n",
       "</style>\n",
       "<table border=\"1\" class=\"dataframe\">\n",
       "  <thead>\n",
       "    <tr style=\"text-align: right;\">\n",
       "      <th></th>\n",
       "      <th>customer_key</th>\n",
       "      <th>territory_id</th>\n",
       "      <th>account_number</th>\n",
       "      <th>customer_type</th>\n",
       "      <th>modified_date</th>\n",
       "    </tr>\n",
       "  </thead>\n",
       "  <tbody>\n",
       "    <tr>\n",
       "      <th>0</th>\n",
       "      <td>1</td>\n",
       "      <td>1</td>\n",
       "      <td>AW00000001</td>\n",
       "      <td>S</td>\n",
       "      <td>2004-10-13 11:15:07</td>\n",
       "    </tr>\n",
       "    <tr>\n",
       "      <th>1</th>\n",
       "      <td>2</td>\n",
       "      <td>1</td>\n",
       "      <td>AW00000002</td>\n",
       "      <td>S</td>\n",
       "      <td>2004-10-13 11:15:07</td>\n",
       "    </tr>\n",
       "  </tbody>\n",
       "</table>\n",
       "</div>"
      ],
      "text/plain": [
       "   customer_key  territory_id account_number customer_type       modified_date\n",
       "0             1             1     AW00000001             S 2004-10-13 11:15:07\n",
       "1             2             1     AW00000002             S 2004-10-13 11:15:07"
      ]
     },
     "execution_count": 7,
     "metadata": {},
     "output_type": "execute_result"
    }
   ],
   "source": [
    "# Drop rowguid column\n",
    "drop_cols = ['rowguid']\n",
    "df_customers.drop(drop_cols, axis=1, inplace=True)\n",
    "\n",
    "# Rename columns for consistency \n",
    "df_customers.rename(columns={\n",
    "    'CustomerID': 'customer_key',\n",
    "    'TerritoryID': 'territory_id',\n",
    "    'AccountNumber': 'account_number',\n",
    "    'CustomerType': 'customer_type',\n",
    "    'ModifiedDate': 'modified_date'\n",
    "}, inplace=True)\n",
    "\n",
    "df_customers.head(2)"
   ]
  },
  {
   "cell_type": "markdown",
   "id": "afda0909",
   "metadata": {},
   "source": [
    "#### Load step: create and populate date dimension "
   ]
  },
  {
   "cell_type": "markdown",
   "id": "93b0d66a",
   "metadata": {},
   "source": [
    "Execute the `Create_Populate_Dim_Date.sql` script to create and populate a date dimension table (`date_dim`) in the AdventureWorks data warehouse. The SQL file must be located in the working directory for this step. "
   ]
  },
  {
   "cell_type": "markdown",
   "id": "e2f77d29",
   "metadata": {},
   "source": [
    "#### Load step: populate customer dimension"
   ]
  },
  {
   "cell_type": "code",
   "execution_count": 8,
   "id": "64e482be",
   "metadata": {},
   "outputs": [],
   "source": [
    "db_operation = \"insert\"\n",
    "set_dataframe(df_customers, table_name='dim_customers', pk_column='customer_key',db_operation=db_operation, **dst_mysql_args)"
   ]
  },
  {
   "cell_type": "markdown",
   "id": "cc405889",
   "metadata": {},
   "source": [
    "#### Verify success of ETL operations for date dimension"
   ]
  },
  {
   "cell_type": "code",
   "execution_count": 12,
   "id": "58254185",
   "metadata": {
    "scrolled": true
   },
   "outputs": [
    {
     "data": {
      "text/html": [
       "<div>\n",
       "<style scoped>\n",
       "    .dataframe tbody tr th:only-of-type {\n",
       "        vertical-align: middle;\n",
       "    }\n",
       "\n",
       "    .dataframe tbody tr th {\n",
       "        vertical-align: top;\n",
       "    }\n",
       "\n",
       "    .dataframe thead th {\n",
       "        text-align: right;\n",
       "    }\n",
       "</style>\n",
       "<table border=\"1\" class=\"dataframe\">\n",
       "  <thead>\n",
       "    <tr style=\"text-align: right;\">\n",
       "      <th></th>\n",
       "      <th>date_key</th>\n",
       "      <th>full_date</th>\n",
       "      <th>date_name</th>\n",
       "      <th>date_name_us</th>\n",
       "      <th>date_name_eu</th>\n",
       "      <th>day_of_week</th>\n",
       "      <th>day_name_of_week</th>\n",
       "      <th>day_of_month</th>\n",
       "      <th>day_of_year</th>\n",
       "      <th>weekday_weekend</th>\n",
       "      <th>...</th>\n",
       "      <th>is_last_day_of_month</th>\n",
       "      <th>calendar_quarter</th>\n",
       "      <th>calendar_year</th>\n",
       "      <th>calendar_year_month</th>\n",
       "      <th>calendar_year_qtr</th>\n",
       "      <th>fiscal_month_of_year</th>\n",
       "      <th>fiscal_quarter</th>\n",
       "      <th>fiscal_year</th>\n",
       "      <th>fiscal_year_month</th>\n",
       "      <th>fiscal_year_qtr</th>\n",
       "    </tr>\n",
       "  </thead>\n",
       "  <tbody>\n",
       "    <tr>\n",
       "      <th>0</th>\n",
       "      <td>20000101</td>\n",
       "      <td>2000-01-01</td>\n",
       "      <td>2000/01/01</td>\n",
       "      <td>01/01/2000</td>\n",
       "      <td>01/01/2000</td>\n",
       "      <td>7</td>\n",
       "      <td>Saturday</td>\n",
       "      <td>1</td>\n",
       "      <td>1</td>\n",
       "      <td>Weekend</td>\n",
       "      <td>...</td>\n",
       "      <td>N</td>\n",
       "      <td>1</td>\n",
       "      <td>2000</td>\n",
       "      <td>2000-01</td>\n",
       "      <td>2000Q1</td>\n",
       "      <td>7</td>\n",
       "      <td>3</td>\n",
       "      <td>2000</td>\n",
       "      <td>2000-07</td>\n",
       "      <td>2000Q3</td>\n",
       "    </tr>\n",
       "    <tr>\n",
       "      <th>1</th>\n",
       "      <td>20000102</td>\n",
       "      <td>2000-01-02</td>\n",
       "      <td>2000/01/02</td>\n",
       "      <td>01/02/2000</td>\n",
       "      <td>02/01/2000</td>\n",
       "      <td>1</td>\n",
       "      <td>Sunday</td>\n",
       "      <td>2</td>\n",
       "      <td>2</td>\n",
       "      <td>Weekend</td>\n",
       "      <td>...</td>\n",
       "      <td>N</td>\n",
       "      <td>1</td>\n",
       "      <td>2000</td>\n",
       "      <td>2000-01</td>\n",
       "      <td>2000Q1</td>\n",
       "      <td>7</td>\n",
       "      <td>3</td>\n",
       "      <td>2000</td>\n",
       "      <td>2000-07</td>\n",
       "      <td>2000Q3</td>\n",
       "    </tr>\n",
       "  </tbody>\n",
       "</table>\n",
       "<p>2 rows × 23 columns</p>\n",
       "</div>"
      ],
      "text/plain": [
       "   date_key   full_date   date_name date_name_us date_name_eu  day_of_week  \\\n",
       "0  20000101  2000-01-01  2000/01/01   01/01/2000   01/01/2000            7   \n",
       "1  20000102  2000-01-02  2000/01/02   01/02/2000   02/01/2000            1   \n",
       "\n",
       "  day_name_of_week  day_of_month  day_of_year weekday_weekend  ...  \\\n",
       "0         Saturday             1            1         Weekend  ...   \n",
       "1           Sunday             2            2         Weekend  ...   \n",
       "\n",
       "   is_last_day_of_month calendar_quarter  calendar_year calendar_year_month  \\\n",
       "0                     N                1           2000             2000-01   \n",
       "1                     N                1           2000             2000-01   \n",
       "\n",
       "   calendar_year_qtr  fiscal_month_of_year fiscal_quarter fiscal_year  \\\n",
       "0             2000Q1                     7              3        2000   \n",
       "1             2000Q1                     7              3        2000   \n",
       "\n",
       "   fiscal_year_month  fiscal_year_qtr  \n",
       "0            2000-07           2000Q3  \n",
       "1            2000-07           2000Q3  \n",
       "\n",
       "[2 rows x 23 columns]"
      ]
     },
     "execution_count": 12,
     "metadata": {},
     "output_type": "execute_result"
    }
   ],
   "source": [
    "# Retrieve and display date dimension table from adventureworks data warehouse\n",
    "sql_date = \"SELECT * FROM dim_date;\"\n",
    "df_date = get_sql_dataframe(sql_date, **dst_mysql_args)\n",
    "df_date.head(2)"
   ]
  },
  {
   "cell_type": "markdown",
   "id": "e6f6a13e",
   "metadata": {},
   "source": [
    "#### Verify success of ETL operations for customer dimension"
   ]
  },
  {
   "cell_type": "code",
   "execution_count": 13,
   "id": "c8e7c617",
   "metadata": {},
   "outputs": [
    {
     "data": {
      "text/html": [
       "<div>\n",
       "<style scoped>\n",
       "    .dataframe tbody tr th:only-of-type {\n",
       "        vertical-align: middle;\n",
       "    }\n",
       "\n",
       "    .dataframe tbody tr th {\n",
       "        vertical-align: top;\n",
       "    }\n",
       "\n",
       "    .dataframe thead th {\n",
       "        text-align: right;\n",
       "    }\n",
       "</style>\n",
       "<table border=\"1\" class=\"dataframe\">\n",
       "  <thead>\n",
       "    <tr style=\"text-align: right;\">\n",
       "      <th></th>\n",
       "      <th>customer_key</th>\n",
       "      <th>territory_id</th>\n",
       "      <th>account_number</th>\n",
       "      <th>customer_type</th>\n",
       "      <th>modified_date</th>\n",
       "    </tr>\n",
       "  </thead>\n",
       "  <tbody>\n",
       "    <tr>\n",
       "      <th>0</th>\n",
       "      <td>1</td>\n",
       "      <td>1</td>\n",
       "      <td>AW00000001</td>\n",
       "      <td>S</td>\n",
       "      <td>2004-10-13 11:15:07</td>\n",
       "    </tr>\n",
       "    <tr>\n",
       "      <th>1</th>\n",
       "      <td>2</td>\n",
       "      <td>1</td>\n",
       "      <td>AW00000002</td>\n",
       "      <td>S</td>\n",
       "      <td>2004-10-13 11:15:07</td>\n",
       "    </tr>\n",
       "  </tbody>\n",
       "</table>\n",
       "</div>"
      ],
      "text/plain": [
       "   customer_key  territory_id account_number customer_type       modified_date\n",
       "0             1             1     AW00000001             S 2004-10-13 11:15:07\n",
       "1             2             1     AW00000002             S 2004-10-13 11:15:07"
      ]
     },
     "execution_count": 13,
     "metadata": {},
     "output_type": "execute_result"
    }
   ],
   "source": [
    "# Retrieve and display customer dimension table from adventureworks data warehouse\n",
    "sql_customers = \"SELECT * FROM dim_customers;\"\n",
    "df_verify_customers = get_sql_dataframe(sql_customers, **dst_mysql_args)\n",
    "df_verify_customers.head(2)"
   ]
  },
  {
   "cell_type": "code",
   "execution_count": null,
   "id": "a101ab52",
   "metadata": {},
   "outputs": [],
   "source": []
  }
 ],
 "metadata": {
  "kernelspec": {
   "display_name": "Python 3",
   "language": "python",
   "name": "python3"
  },
  "language_info": {
   "codemirror_mode": {
    "name": "ipython",
    "version": 3
   },
   "file_extension": ".py",
   "mimetype": "text/x-python",
   "name": "python",
   "nbconvert_exporter": "python",
   "pygments_lexer": "ipython3",
   "version": "3.8.8"
  }
 },
 "nbformat": 4,
 "nbformat_minor": 5
}
