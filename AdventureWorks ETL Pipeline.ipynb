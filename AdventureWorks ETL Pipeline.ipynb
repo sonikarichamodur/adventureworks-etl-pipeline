{
 "cells": [
  {
   "cell_type": "markdown",
   "id": "ab1d7636",
   "metadata": {},
   "source": [
    "# AdventureWorks ETL Pipeline\n",
    "## By Sonika Modur\n",
    "[Insert description here]"
   ]
  },
  {
   "cell_type": "markdown",
   "id": "cad87409",
   "metadata": {},
   "source": [
    "### Import Necessary Libraries"
   ]
  },
  {
   "cell_type": "code",
   "execution_count": 1,
   "id": "46166dd4",
   "metadata": {},
   "outputs": [],
   "source": [
    "import os\n",
    "import json\n",
    "import numpy\n",
    "import pandas as pd\n",
    "import datetime\n",
    "import certifi\n",
    "\n",
    "import pymongo\n",
    "import sqlalchemy\n",
    "from sqlalchemy import create_engine, text"
   ]
  },
  {
   "cell_type": "code",
   "execution_count": 2,
   "id": "47622883",
   "metadata": {},
   "outputs": [
    {
     "name": "stdout",
     "output_type": "stream",
     "text": [
      "Running SQL Alchemy Version: 1.4.7\n",
      "Running PyMongo Version: 4.10.1\n"
     ]
    }
   ],
   "source": [
    "print(f\"Running SQL Alchemy Version: {sqlalchemy.__version__}\")\n",
    "print(f\"Running PyMongo Version: {pymongo.__version__}\")"
   ]
  },
  {
   "cell_type": "markdown",
   "id": "41a4bf0a",
   "metadata": {},
   "source": [
    "### Declare and Assign Connection Variables for MySQL Server and Databases"
   ]
  },
  {
   "cell_type": "code",
   "execution_count": 3,
   "id": "188bd950",
   "metadata": {},
   "outputs": [],
   "source": [
    "src_mysql_args = {\n",
    "    \"uid\" : \"root\",\n",
    "    \"pwd\" : \"PASSWORD123!\",\n",
    "    \"hostname\" : \"localhost\",\n",
    "    \"dbname\" : \"adventureworks\"\n",
    "}\n",
    "\n",
    "dst_mysql_args = {\n",
    "    \"uid\" : \"root\",\n",
    "    \"pwd\" : \"PASSWORD123!\",\n",
    "    \"hostname\" : \"localhost\",\n",
    "    \"dbname\" : \"adventureworks_dw\"\n",
    "}\n",
    "\n",
    "mongodb_args = {\n",
    "    \"user_name\" : \"\",\n",
    "    \"password\" : \"password\",\n",
    "    \"cluster_name\" : \"midtermproject\",\n",
    "    \"cluster_subnet\" : \"\",\n",
    "    \"cluster_location\" : \"local\", # \"local\"\n",
    "    \"db_name\" : \"adventureworks_mongodb\"\n",
    "}"
   ]
  },
  {
   "cell_type": "markdown",
   "id": "5ea44f75",
   "metadata": {},
   "source": [
    "### Declare Functions for Getting Data From and Setting Data Into Databases (MySQL)"
   ]
  },
  {
   "cell_type": "code",
   "execution_count": 4,
   "id": "8fe1a139",
   "metadata": {},
   "outputs": [],
   "source": [
    "def get_sql_dataframe(sql_query, **args):\n",
    "    '''Create a connection to the MySQL database'''\n",
    "    conn_str = f\"mysql+pymysql://{args['uid']}:{args['pwd']}@{args['hostname']}/{args['dbname']}\"\n",
    "    sqlEngine = create_engine(conn_str, pool_recycle=3600)\n",
    "    connection = sqlEngine.connect()\n",
    "    \n",
    "    '''Invoke the pd.read_sql() function to query the database, and fill a Pandas DataFrame.'''\n",
    "    dframe = pd.read_sql(text(sql_query), connection);\n",
    "    connection.close()\n",
    "    \n",
    "    return dframe\n",
    "\n",
    "def set_dataframe(df, table_name, pk_column, db_operation, **args):\n",
    "    '''Create a connection to the MySQL database'''\n",
    "    conn_str = f\"mysql+pymysql://{args['uid']}:{args['pwd']}@{args['hostname']}/{args['dbname']}\"\n",
    "    sqlEngine = create_engine(conn_str, pool_recycle=3600)\n",
    "    connection = sqlEngine.connect()\n",
    "    \n",
    "    '''Invoke the Pandas DataFrame .to_sql( ) function to either create, or append to, a table'''\n",
    "    if db_operation == \"insert\":\n",
    "        df.to_sql(table_name, con=connection, index=False, if_exists='replace')\n",
    "        connection.execute(text(f\"ALTER TABLE {table_name} ADD PRIMARY KEY ({pk_column});\"))\n",
    "            \n",
    "    elif db_operation == \"update\":\n",
    "        df.to_sql(table_name, con=connection, index=False, if_exists='append')\n",
    "    \n",
    "    connection.close()"
   ]
  },
  {
   "cell_type": "markdown",
   "id": "97f3fb48",
   "metadata": {},
   "source": [
    "### Declare Functions for Getting Data From and Setting Data Into Databases (MongoDB)"
   ]
  },
  {
   "cell_type": "code",
   "execution_count": 5,
   "id": "abbe1a19",
   "metadata": {},
   "outputs": [],
   "source": [
    "def get_mongo_client(**args):\n",
    "    '''Validate proper input'''\n",
    "    if args[\"cluster_location\"] not in ['atlas', 'local']:\n",
    "        raise Exception(\"You must specify either 'atlas' or 'local' for the cluster_location parameter.\")\n",
    "    \n",
    "    else:\n",
    "        if args[\"cluster_location\"] == \"atlas\":\n",
    "            connect_str = f\"mongodb+srv://{args['user_name']}:{args['password']}@\"\n",
    "            connect_str += f\"{args['cluster_name']}.{args['cluster_subnet']}.mongodb.net\"\n",
    "            client = pymongo.MongoClient(connect_str, tlsCAFile=certifi.where())\n",
    "            \n",
    "        elif args[\"cluster_location\"] == \"local\":\n",
    "            client = pymongo.MongoClient(\"mongodb://localhost:27017/\")\n",
    "        \n",
    "    return client\n",
    "\n",
    "\n",
    "def get_mongo_dataframe(mongo_client, db_name, collection, query):\n",
    "    '''Query MongoDB, and fill a python list with documents to create a DataFrame'''\n",
    "    db = mongo_client[db_name]\n",
    "    dframe = pd.DataFrame(list(db[collection].find(query)))\n",
    "    dframe.drop(['_id'], axis=1, inplace=True)\n",
    "    mongo_client.close()\n",
    "    \n",
    "    return dframe\n",
    "\n",
    "\n",
    "def set_mongo_collections(mongo_client, db_name, data_directory, json_files):\n",
    "    db = mongo_client[db_name]\n",
    "    \n",
    "    for file in json_files:\n",
    "        db.drop_collection(file)\n",
    "        json_file = os.path.join(data_directory, json_files[file])\n",
    "        with open(json_file, 'r') as openfile:\n",
    "            json_object = json.load(openfile)\n",
    "            file = db[file]\n",
    "            result = file.insert_many(json_object)\n",
    "        \n",
    "    mongo_client.close()"
   ]
  },
  {
   "cell_type": "markdown",
   "id": "3c9defd8",
   "metadata": {},
   "source": [
    "### Create the AdventureWorks Data Warehouse"
   ]
  },
  {
   "cell_type": "code",
   "execution_count": 6,
   "id": "7fdf1915",
   "metadata": {},
   "outputs": [],
   "source": [
    "conn_str = f\"mysql+pymysql://{dst_mysql_args['uid']}:{dst_mysql_args['pwd']}@{dst_mysql_args['hostname']}\"\n",
    "sqlEngine = create_engine(conn_str, pool_recycle=3600)\n",
    "connection = sqlEngine.connect()\n",
    "\n",
    "connection.execute(text(f\"DROP DATABASE IF EXISTS `{dst_mysql_args['dbname']}`;\"))\n",
    "connection.execute(text(f\"CREATE DATABASE `{dst_mysql_args['dbname']}`;\"))\n",
    "connection.execute(text(f\"USE {dst_mysql_args['dbname']};\"))\n",
    "\n",
    "connection.close()"
   ]
  },
  {
   "cell_type": "markdown",
   "id": "bbce4414",
   "metadata": {},
   "source": [
    "### ETL Process for MySQL"
   ]
  },
  {
   "cell_type": "markdown",
   "id": "affe20ec",
   "metadata": {},
   "source": [
    "#### Write a SQL query for the customer dimension"
   ]
  },
  {
   "cell_type": "code",
   "execution_count": 7,
   "id": "70f47e37",
   "metadata": {},
   "outputs": [],
   "source": [
    "sql_customers = \"\"\"\n",
    "SELECT\n",
    "    c.CustomerID,\n",
    "    c.TerritoryID,\n",
    "    c.AccountNumber,\n",
    "    c.CustomerType,\n",
    "    c.ModifiedDate AS CustomerModifiedDate,\n",
    "    st.Name AS TerritoryName,\n",
    "    st.CountryRegionCode,\n",
    "    ca.AddressID,\n",
    "    ca.AddressTypeID,\n",
    "    ca.ModifiedDate AS CustomerAddressModifiedDate,\n",
    "    a.AddressLine1,\n",
    "    a.AddressLine2,\n",
    "    a.City,\n",
    "    a.PostalCode,\n",
    "    a.ModifiedDate AS AddressModifiedDate,\n",
    "    at.Name AS AddressTypeName\n",
    "FROM customer c\n",
    "LEFT JOIN salesterritory st ON c.TerritoryID = st.TerritoryID\n",
    "LEFT JOIN customeraddress ca ON c.CustomerID = ca.CustomerID\n",
    "LEFT JOIN address a ON ca.AddressID = a.AddressID\n",
    "LEFT JOIN addresstype at ON ca.AddressTypeID = at.AddressTypeID;\n",
    "\"\"\""
   ]
  },
  {
   "cell_type": "markdown",
   "id": "4be536db",
   "metadata": {},
   "source": [
    "#### Extract step: Create & populate customer dimension table"
   ]
  },
  {
   "cell_type": "code",
   "execution_count": 8,
   "id": "632168b7",
   "metadata": {},
   "outputs": [
    {
     "data": {
      "text/html": [
       "<div>\n",
       "<style scoped>\n",
       "    .dataframe tbody tr th:only-of-type {\n",
       "        vertical-align: middle;\n",
       "    }\n",
       "\n",
       "    .dataframe tbody tr th {\n",
       "        vertical-align: top;\n",
       "    }\n",
       "\n",
       "    .dataframe thead th {\n",
       "        text-align: right;\n",
       "    }\n",
       "</style>\n",
       "<table border=\"1\" class=\"dataframe\">\n",
       "  <thead>\n",
       "    <tr style=\"text-align: right;\">\n",
       "      <th></th>\n",
       "      <th>CustomerID</th>\n",
       "      <th>TerritoryID</th>\n",
       "      <th>AccountNumber</th>\n",
       "      <th>CustomerType</th>\n",
       "      <th>CustomerModifiedDate</th>\n",
       "      <th>TerritoryName</th>\n",
       "      <th>CountryRegionCode</th>\n",
       "      <th>AddressID</th>\n",
       "      <th>AddressTypeID</th>\n",
       "      <th>CustomerAddressModifiedDate</th>\n",
       "      <th>AddressLine1</th>\n",
       "      <th>AddressLine2</th>\n",
       "      <th>City</th>\n",
       "      <th>PostalCode</th>\n",
       "      <th>AddressModifiedDate</th>\n",
       "      <th>AddressTypeName</th>\n",
       "    </tr>\n",
       "  </thead>\n",
       "  <tbody>\n",
       "    <tr>\n",
       "      <th>0</th>\n",
       "      <td>1</td>\n",
       "      <td>1</td>\n",
       "      <td>AW00000001</td>\n",
       "      <td>S</td>\n",
       "      <td>2004-10-13 11:15:07</td>\n",
       "      <td>Northwest</td>\n",
       "      <td>US</td>\n",
       "      <td>832</td>\n",
       "      <td>3</td>\n",
       "      <td>2001-08-01</td>\n",
       "      <td>2251 Elliot Avenue</td>\n",
       "      <td>None</td>\n",
       "      <td>Seattle</td>\n",
       "      <td>98104</td>\n",
       "      <td>2001-08-01</td>\n",
       "      <td>Main Office</td>\n",
       "    </tr>\n",
       "    <tr>\n",
       "      <th>1</th>\n",
       "      <td>2</td>\n",
       "      <td>1</td>\n",
       "      <td>AW00000002</td>\n",
       "      <td>S</td>\n",
       "      <td>2004-10-13 11:15:07</td>\n",
       "      <td>Northwest</td>\n",
       "      <td>US</td>\n",
       "      <td>297</td>\n",
       "      <td>5</td>\n",
       "      <td>2002-08-01</td>\n",
       "      <td>7943 Walnut Ave</td>\n",
       "      <td>None</td>\n",
       "      <td>Renton</td>\n",
       "      <td>98055</td>\n",
       "      <td>2002-08-01</td>\n",
       "      <td>Shipping</td>\n",
       "    </tr>\n",
       "  </tbody>\n",
       "</table>\n",
       "</div>"
      ],
      "text/plain": [
       "   CustomerID  TerritoryID AccountNumber CustomerType CustomerModifiedDate  \\\n",
       "0           1            1    AW00000001            S  2004-10-13 11:15:07   \n",
       "1           2            1    AW00000002            S  2004-10-13 11:15:07   \n",
       "\n",
       "  TerritoryName CountryRegionCode  AddressID  AddressTypeID  \\\n",
       "0     Northwest                US        832              3   \n",
       "1     Northwest                US        297              5   \n",
       "\n",
       "  CustomerAddressModifiedDate        AddressLine1 AddressLine2     City  \\\n",
       "0                  2001-08-01  2251 Elliot Avenue         None  Seattle   \n",
       "1                  2002-08-01     7943 Walnut Ave         None   Renton   \n",
       "\n",
       "  PostalCode AddressModifiedDate AddressTypeName  \n",
       "0      98104          2001-08-01     Main Office  \n",
       "1      98055          2002-08-01        Shipping  "
      ]
     },
     "execution_count": 8,
     "metadata": {},
     "output_type": "execute_result"
    }
   ],
   "source": [
    "df_customers = get_sql_dataframe(sql_customers, **src_mysql_args)\n",
    "df_customers.head(2)"
   ]
  },
  {
   "cell_type": "markdown",
   "id": "1ac904d4",
   "metadata": {},
   "source": [
    "#### Transform step: drop, rename, and reorder columns in customer dimension table"
   ]
  },
  {
   "cell_type": "code",
   "execution_count": 9,
   "id": "6d010c97",
   "metadata": {
    "scrolled": true
   },
   "outputs": [
    {
     "data": {
      "text/html": [
       "<div>\n",
       "<style scoped>\n",
       "    .dataframe tbody tr th:only-of-type {\n",
       "        vertical-align: middle;\n",
       "    }\n",
       "\n",
       "    .dataframe tbody tr th {\n",
       "        vertical-align: top;\n",
       "    }\n",
       "\n",
       "    .dataframe thead th {\n",
       "        text-align: right;\n",
       "    }\n",
       "</style>\n",
       "<table border=\"1\" class=\"dataframe\">\n",
       "  <thead>\n",
       "    <tr style=\"text-align: right;\">\n",
       "      <th></th>\n",
       "      <th>CustomerKey</th>\n",
       "      <th>CustomerID</th>\n",
       "      <th>Territory</th>\n",
       "      <th>CountryRegionCode</th>\n",
       "      <th>AccountNumber</th>\n",
       "      <th>CustomerType</th>\n",
       "      <th>CustomerModifiedDate</th>\n",
       "      <th>AddressLine1</th>\n",
       "      <th>AddressLine2</th>\n",
       "      <th>City</th>\n",
       "      <th>PostalCode</th>\n",
       "      <th>AddressType</th>\n",
       "      <th>AddressModifiedDate</th>\n",
       "    </tr>\n",
       "  </thead>\n",
       "  <tbody>\n",
       "    <tr>\n",
       "      <th>0</th>\n",
       "      <td>1</td>\n",
       "      <td>1</td>\n",
       "      <td>Northwest</td>\n",
       "      <td>US</td>\n",
       "      <td>AW00000001</td>\n",
       "      <td>S</td>\n",
       "      <td>2004-10-13 11:15:07</td>\n",
       "      <td>2251 Elliot Avenue</td>\n",
       "      <td>None</td>\n",
       "      <td>Seattle</td>\n",
       "      <td>98104</td>\n",
       "      <td>Main Office</td>\n",
       "      <td>2001-08-01</td>\n",
       "    </tr>\n",
       "    <tr>\n",
       "      <th>1</th>\n",
       "      <td>2</td>\n",
       "      <td>2</td>\n",
       "      <td>Northwest</td>\n",
       "      <td>US</td>\n",
       "      <td>AW00000002</td>\n",
       "      <td>S</td>\n",
       "      <td>2004-10-13 11:15:07</td>\n",
       "      <td>7943 Walnut Ave</td>\n",
       "      <td>None</td>\n",
       "      <td>Renton</td>\n",
       "      <td>98055</td>\n",
       "      <td>Shipping</td>\n",
       "      <td>2002-08-01</td>\n",
       "    </tr>\n",
       "  </tbody>\n",
       "</table>\n",
       "</div>"
      ],
      "text/plain": [
       "   CustomerKey  CustomerID  Territory CountryRegionCode AccountNumber  \\\n",
       "0            1           1  Northwest                US    AW00000001   \n",
       "1            2           2  Northwest                US    AW00000002   \n",
       "\n",
       "  CustomerType CustomerModifiedDate        AddressLine1 AddressLine2     City  \\\n",
       "0            S  2004-10-13 11:15:07  2251 Elliot Avenue         None  Seattle   \n",
       "1            S  2004-10-13 11:15:07     7943 Walnut Ave         None   Renton   \n",
       "\n",
       "  PostalCode  AddressType AddressModifiedDate  \n",
       "0      98104  Main Office          2001-08-01  \n",
       "1      98055     Shipping          2002-08-01  "
      ]
     },
     "execution_count": 9,
     "metadata": {},
     "output_type": "execute_result"
    }
   ],
   "source": [
    "# Drop redundant/irrelevant columns\n",
    "df_customers.drop(columns=[\n",
    "    'TerritoryID',\n",
    "    'AddressID', \n",
    "    'AddressTypeID',\n",
    "    'AddressModifiedDate'\n",
    "], inplace=True)\n",
    "\n",
    "\n",
    "df_customers.rename(columns={\n",
    "    'TerritoryName': 'Territory',\n",
    "    'CustomerAddressModifiedDate':'AddressModifiedDate',\n",
    "    'AddressTypeName':'AddressType'\n",
    "}, inplace=True)\n",
    "\n",
    "ordered_cols = [\n",
    "    'CustomerID',\n",
    "    'Territory',\n",
    "    'CountryRegionCode',\n",
    "    'AccountNumber',\n",
    "    'CustomerType',\n",
    "    'CustomerModifiedDate',\n",
    "    'AddressLine1',\n",
    "    'AddressLine2',\n",
    "    'City',\n",
    "    'PostalCode',\n",
    "    'AddressType',\n",
    "    'AddressModifiedDate'\n",
    "]\n",
    "\n",
    "df_customers = df_customers[ordered_cols]\n",
    "\n",
    "# 3. Insert a new column, with an ever-incrementing numeric value, to serve as the primary key.\n",
    "df_customers.insert(0, \"CustomerKey\", range(1, df_customers.shape[0] + 1))\n",
    "df_customers.head(2)"
   ]
  },
  {
   "cell_type": "markdown",
   "id": "dae9e83c",
   "metadata": {},
   "source": [
    "#### Load step: create and populate date dimension "
   ]
  },
  {
   "cell_type": "markdown",
   "id": "80433b4b",
   "metadata": {},
   "source": [
    "Execute the `Create_Populate_Dim_Date.sql` script to create and populate a date dimension table (`date_dim`) in the AdventureWorks data warehouse. The SQL file must be located in the working directory for this step. "
   ]
  },
  {
   "cell_type": "markdown",
   "id": "de63fb72",
   "metadata": {},
   "source": [
    "#### Load step: populate customer dimension"
   ]
  },
  {
   "cell_type": "code",
   "execution_count": 10,
   "id": "63e6bf5e",
   "metadata": {},
   "outputs": [],
   "source": [
    "db_operation = \"insert\"\n",
    "set_dataframe(df_customers, table_name='dim_customers', pk_column='CustomerKey',db_operation=db_operation, **dst_mysql_args)"
   ]
  },
  {
   "cell_type": "markdown",
   "id": "37180d6a",
   "metadata": {},
   "source": [
    "#### Verify success of ETL operations for date dimension"
   ]
  },
  {
   "cell_type": "code",
   "execution_count": 11,
   "id": "d93177b5",
   "metadata": {
    "scrolled": true
   },
   "outputs": [
    {
     "ename": "ProgrammingError",
     "evalue": "(pymysql.err.ProgrammingError) (1146, \"Table 'adventureworks_dw.dim_date' doesn't exist\")\n[SQL: SELECT * FROM dim_date;]\n(Background on this error at: http://sqlalche.me/e/14/f405)",
     "output_type": "error",
     "traceback": [
      "\u001b[0;31m---------------------------------------------------------------------------\u001b[0m",
      "\u001b[0;31mProgrammingError\u001b[0m                          Traceback (most recent call last)",
      "\u001b[0;32m~/opt/anaconda3/lib/python3.8/site-packages/sqlalchemy/engine/base.py\u001b[0m in \u001b[0;36m_execute_context\u001b[0;34m(self, dialect, constructor, statement, parameters, execution_options, *args, **kw)\u001b[0m\n\u001b[1;32m   1704\u001b[0m                 \u001b[0;32mif\u001b[0m \u001b[0;32mnot\u001b[0m \u001b[0mevt_handled\u001b[0m\u001b[0;34m:\u001b[0m\u001b[0;34m\u001b[0m\u001b[0;34m\u001b[0m\u001b[0m\n\u001b[0;32m-> 1705\u001b[0;31m                     self.dialect.do_execute(\n\u001b[0m\u001b[1;32m   1706\u001b[0m                         \u001b[0mcursor\u001b[0m\u001b[0;34m,\u001b[0m \u001b[0mstatement\u001b[0m\u001b[0;34m,\u001b[0m \u001b[0mparameters\u001b[0m\u001b[0;34m,\u001b[0m \u001b[0mcontext\u001b[0m\u001b[0;34m\u001b[0m\u001b[0;34m\u001b[0m\u001b[0m\n",
      "\u001b[0;32m~/opt/anaconda3/lib/python3.8/site-packages/sqlalchemy/engine/default.py\u001b[0m in \u001b[0;36mdo_execute\u001b[0;34m(self, cursor, statement, parameters, context)\u001b[0m\n\u001b[1;32m    691\u001b[0m     \u001b[0;32mdef\u001b[0m \u001b[0mdo_execute\u001b[0m\u001b[0;34m(\u001b[0m\u001b[0mself\u001b[0m\u001b[0;34m,\u001b[0m \u001b[0mcursor\u001b[0m\u001b[0;34m,\u001b[0m \u001b[0mstatement\u001b[0m\u001b[0;34m,\u001b[0m \u001b[0mparameters\u001b[0m\u001b[0;34m,\u001b[0m \u001b[0mcontext\u001b[0m\u001b[0;34m=\u001b[0m\u001b[0;32mNone\u001b[0m\u001b[0;34m)\u001b[0m\u001b[0;34m:\u001b[0m\u001b[0;34m\u001b[0m\u001b[0;34m\u001b[0m\u001b[0m\n\u001b[0;32m--> 692\u001b[0;31m         \u001b[0mcursor\u001b[0m\u001b[0;34m.\u001b[0m\u001b[0mexecute\u001b[0m\u001b[0;34m(\u001b[0m\u001b[0mstatement\u001b[0m\u001b[0;34m,\u001b[0m \u001b[0mparameters\u001b[0m\u001b[0;34m)\u001b[0m\u001b[0;34m\u001b[0m\u001b[0;34m\u001b[0m\u001b[0m\n\u001b[0m\u001b[1;32m    693\u001b[0m \u001b[0;34m\u001b[0m\u001b[0m\n",
      "\u001b[0;32m~/opt/anaconda3/lib/python3.8/site-packages/pymysql/cursors.py\u001b[0m in \u001b[0;36mexecute\u001b[0;34m(self, query, args)\u001b[0m\n\u001b[1;32m    152\u001b[0m \u001b[0;34m\u001b[0m\u001b[0m\n\u001b[0;32m--> 153\u001b[0;31m         \u001b[0mresult\u001b[0m \u001b[0;34m=\u001b[0m \u001b[0mself\u001b[0m\u001b[0;34m.\u001b[0m\u001b[0m_query\u001b[0m\u001b[0;34m(\u001b[0m\u001b[0mquery\u001b[0m\u001b[0;34m)\u001b[0m\u001b[0;34m\u001b[0m\u001b[0;34m\u001b[0m\u001b[0m\n\u001b[0m\u001b[1;32m    154\u001b[0m         \u001b[0mself\u001b[0m\u001b[0;34m.\u001b[0m\u001b[0m_executed\u001b[0m \u001b[0;34m=\u001b[0m \u001b[0mquery\u001b[0m\u001b[0;34m\u001b[0m\u001b[0;34m\u001b[0m\u001b[0m\n",
      "\u001b[0;32m~/opt/anaconda3/lib/python3.8/site-packages/pymysql/cursors.py\u001b[0m in \u001b[0;36m_query\u001b[0;34m(self, q)\u001b[0m\n\u001b[1;32m    321\u001b[0m         \u001b[0mself\u001b[0m\u001b[0;34m.\u001b[0m\u001b[0m_clear_result\u001b[0m\u001b[0;34m(\u001b[0m\u001b[0;34m)\u001b[0m\u001b[0;34m\u001b[0m\u001b[0;34m\u001b[0m\u001b[0m\n\u001b[0;32m--> 322\u001b[0;31m         \u001b[0mconn\u001b[0m\u001b[0;34m.\u001b[0m\u001b[0mquery\u001b[0m\u001b[0;34m(\u001b[0m\u001b[0mq\u001b[0m\u001b[0;34m)\u001b[0m\u001b[0;34m\u001b[0m\u001b[0;34m\u001b[0m\u001b[0m\n\u001b[0m\u001b[1;32m    323\u001b[0m         \u001b[0mself\u001b[0m\u001b[0;34m.\u001b[0m\u001b[0m_do_get_result\u001b[0m\u001b[0;34m(\u001b[0m\u001b[0;34m)\u001b[0m\u001b[0;34m\u001b[0m\u001b[0;34m\u001b[0m\u001b[0m\n",
      "\u001b[0;32m~/opt/anaconda3/lib/python3.8/site-packages/pymysql/connections.py\u001b[0m in \u001b[0;36mquery\u001b[0;34m(self, sql, unbuffered)\u001b[0m\n\u001b[1;32m    562\u001b[0m         \u001b[0mself\u001b[0m\u001b[0;34m.\u001b[0m\u001b[0m_execute_command\u001b[0m\u001b[0;34m(\u001b[0m\u001b[0mCOMMAND\u001b[0m\u001b[0;34m.\u001b[0m\u001b[0mCOM_QUERY\u001b[0m\u001b[0;34m,\u001b[0m \u001b[0msql\u001b[0m\u001b[0;34m)\u001b[0m\u001b[0;34m\u001b[0m\u001b[0;34m\u001b[0m\u001b[0m\n\u001b[0;32m--> 563\u001b[0;31m         \u001b[0mself\u001b[0m\u001b[0;34m.\u001b[0m\u001b[0m_affected_rows\u001b[0m \u001b[0;34m=\u001b[0m \u001b[0mself\u001b[0m\u001b[0;34m.\u001b[0m\u001b[0m_read_query_result\u001b[0m\u001b[0;34m(\u001b[0m\u001b[0munbuffered\u001b[0m\u001b[0;34m=\u001b[0m\u001b[0munbuffered\u001b[0m\u001b[0;34m)\u001b[0m\u001b[0;34m\u001b[0m\u001b[0;34m\u001b[0m\u001b[0m\n\u001b[0m\u001b[1;32m    564\u001b[0m         \u001b[0;32mreturn\u001b[0m \u001b[0mself\u001b[0m\u001b[0;34m.\u001b[0m\u001b[0m_affected_rows\u001b[0m\u001b[0;34m\u001b[0m\u001b[0;34m\u001b[0m\u001b[0m\n",
      "\u001b[0;32m~/opt/anaconda3/lib/python3.8/site-packages/pymysql/connections.py\u001b[0m in \u001b[0;36m_read_query_result\u001b[0;34m(self, unbuffered)\u001b[0m\n\u001b[1;32m    824\u001b[0m             \u001b[0mresult\u001b[0m \u001b[0;34m=\u001b[0m \u001b[0mMySQLResult\u001b[0m\u001b[0;34m(\u001b[0m\u001b[0mself\u001b[0m\u001b[0;34m)\u001b[0m\u001b[0;34m\u001b[0m\u001b[0;34m\u001b[0m\u001b[0m\n\u001b[0;32m--> 825\u001b[0;31m             \u001b[0mresult\u001b[0m\u001b[0;34m.\u001b[0m\u001b[0mread\u001b[0m\u001b[0;34m(\u001b[0m\u001b[0;34m)\u001b[0m\u001b[0;34m\u001b[0m\u001b[0;34m\u001b[0m\u001b[0m\n\u001b[0m\u001b[1;32m    826\u001b[0m         \u001b[0mself\u001b[0m\u001b[0;34m.\u001b[0m\u001b[0m_result\u001b[0m \u001b[0;34m=\u001b[0m \u001b[0mresult\u001b[0m\u001b[0;34m\u001b[0m\u001b[0;34m\u001b[0m\u001b[0m\n",
      "\u001b[0;32m~/opt/anaconda3/lib/python3.8/site-packages/pymysql/connections.py\u001b[0m in \u001b[0;36mread\u001b[0;34m(self)\u001b[0m\n\u001b[1;32m   1198\u001b[0m         \u001b[0;32mtry\u001b[0m\u001b[0;34m:\u001b[0m\u001b[0;34m\u001b[0m\u001b[0;34m\u001b[0m\u001b[0m\n\u001b[0;32m-> 1199\u001b[0;31m             \u001b[0mfirst_packet\u001b[0m \u001b[0;34m=\u001b[0m \u001b[0mself\u001b[0m\u001b[0;34m.\u001b[0m\u001b[0mconnection\u001b[0m\u001b[0;34m.\u001b[0m\u001b[0m_read_packet\u001b[0m\u001b[0;34m(\u001b[0m\u001b[0;34m)\u001b[0m\u001b[0;34m\u001b[0m\u001b[0;34m\u001b[0m\u001b[0m\n\u001b[0m\u001b[1;32m   1200\u001b[0m \u001b[0;34m\u001b[0m\u001b[0m\n",
      "\u001b[0;32m~/opt/anaconda3/lib/python3.8/site-packages/pymysql/connections.py\u001b[0m in \u001b[0;36m_read_packet\u001b[0;34m(self, packet_type)\u001b[0m\n\u001b[1;32m    774\u001b[0m                 \u001b[0mself\u001b[0m\u001b[0;34m.\u001b[0m\u001b[0m_result\u001b[0m\u001b[0;34m.\u001b[0m\u001b[0munbuffered_active\u001b[0m \u001b[0;34m=\u001b[0m \u001b[0;32mFalse\u001b[0m\u001b[0;34m\u001b[0m\u001b[0;34m\u001b[0m\u001b[0m\n\u001b[0;32m--> 775\u001b[0;31m             \u001b[0mpacket\u001b[0m\u001b[0;34m.\u001b[0m\u001b[0mraise_for_error\u001b[0m\u001b[0;34m(\u001b[0m\u001b[0;34m)\u001b[0m\u001b[0;34m\u001b[0m\u001b[0;34m\u001b[0m\u001b[0m\n\u001b[0m\u001b[1;32m    776\u001b[0m         \u001b[0;32mreturn\u001b[0m \u001b[0mpacket\u001b[0m\u001b[0;34m\u001b[0m\u001b[0;34m\u001b[0m\u001b[0m\n",
      "\u001b[0;32m~/opt/anaconda3/lib/python3.8/site-packages/pymysql/protocol.py\u001b[0m in \u001b[0;36mraise_for_error\u001b[0;34m(self)\u001b[0m\n\u001b[1;32m    218\u001b[0m             \u001b[0mprint\u001b[0m\u001b[0;34m(\u001b[0m\u001b[0;34m\"errno =\"\u001b[0m\u001b[0;34m,\u001b[0m \u001b[0merrno\u001b[0m\u001b[0;34m)\u001b[0m\u001b[0;34m\u001b[0m\u001b[0;34m\u001b[0m\u001b[0m\n\u001b[0;32m--> 219\u001b[0;31m         \u001b[0merr\u001b[0m\u001b[0;34m.\u001b[0m\u001b[0mraise_mysql_exception\u001b[0m\u001b[0;34m(\u001b[0m\u001b[0mself\u001b[0m\u001b[0;34m.\u001b[0m\u001b[0m_data\u001b[0m\u001b[0;34m)\u001b[0m\u001b[0;34m\u001b[0m\u001b[0;34m\u001b[0m\u001b[0m\n\u001b[0m\u001b[1;32m    220\u001b[0m \u001b[0;34m\u001b[0m\u001b[0m\n",
      "\u001b[0;32m~/opt/anaconda3/lib/python3.8/site-packages/pymysql/err.py\u001b[0m in \u001b[0;36mraise_mysql_exception\u001b[0;34m(data)\u001b[0m\n\u001b[1;32m    149\u001b[0m         \u001b[0merrorclass\u001b[0m \u001b[0;34m=\u001b[0m \u001b[0mInternalError\u001b[0m \u001b[0;32mif\u001b[0m \u001b[0merrno\u001b[0m \u001b[0;34m<\u001b[0m \u001b[0;36m1000\u001b[0m \u001b[0;32melse\u001b[0m \u001b[0mOperationalError\u001b[0m\u001b[0;34m\u001b[0m\u001b[0;34m\u001b[0m\u001b[0m\n\u001b[0;32m--> 150\u001b[0;31m     \u001b[0;32mraise\u001b[0m \u001b[0merrorclass\u001b[0m\u001b[0;34m(\u001b[0m\u001b[0merrno\u001b[0m\u001b[0;34m,\u001b[0m \u001b[0merrval\u001b[0m\u001b[0;34m)\u001b[0m\u001b[0;34m\u001b[0m\u001b[0;34m\u001b[0m\u001b[0m\n\u001b[0m",
      "\u001b[0;31mProgrammingError\u001b[0m: (1146, \"Table 'adventureworks_dw.dim_date' doesn't exist\")",
      "\nThe above exception was the direct cause of the following exception:\n",
      "\u001b[0;31mProgrammingError\u001b[0m                          Traceback (most recent call last)",
      "\u001b[0;32m<ipython-input-11-354b2733ff11>\u001b[0m in \u001b[0;36m<module>\u001b[0;34m\u001b[0m\n\u001b[1;32m      1\u001b[0m \u001b[0;31m# Retrieve and display date dimension table from adventureworks data warehouse\u001b[0m\u001b[0;34m\u001b[0m\u001b[0;34m\u001b[0m\u001b[0;34m\u001b[0m\u001b[0m\n\u001b[1;32m      2\u001b[0m \u001b[0msql_date\u001b[0m \u001b[0;34m=\u001b[0m \u001b[0;34m\"SELECT * FROM dim_date;\"\u001b[0m\u001b[0;34m\u001b[0m\u001b[0;34m\u001b[0m\u001b[0m\n\u001b[0;32m----> 3\u001b[0;31m \u001b[0mdf_date\u001b[0m \u001b[0;34m=\u001b[0m \u001b[0mget_sql_dataframe\u001b[0m\u001b[0;34m(\u001b[0m\u001b[0msql_date\u001b[0m\u001b[0;34m,\u001b[0m \u001b[0;34m**\u001b[0m\u001b[0mdst_mysql_args\u001b[0m\u001b[0;34m)\u001b[0m\u001b[0;34m\u001b[0m\u001b[0;34m\u001b[0m\u001b[0m\n\u001b[0m\u001b[1;32m      4\u001b[0m \u001b[0mdf_date\u001b[0m\u001b[0;34m.\u001b[0m\u001b[0mhead\u001b[0m\u001b[0;34m(\u001b[0m\u001b[0;36m2\u001b[0m\u001b[0;34m)\u001b[0m\u001b[0;34m\u001b[0m\u001b[0;34m\u001b[0m\u001b[0m\n",
      "\u001b[0;32m<ipython-input-4-2879e50887ff>\u001b[0m in \u001b[0;36mget_sql_dataframe\u001b[0;34m(sql_query, **args)\u001b[0m\n\u001b[1;32m      6\u001b[0m \u001b[0;34m\u001b[0m\u001b[0m\n\u001b[1;32m      7\u001b[0m     \u001b[0;34m'''Invoke the pd.read_sql() function to query the database, and fill a Pandas DataFrame.'''\u001b[0m\u001b[0;34m\u001b[0m\u001b[0;34m\u001b[0m\u001b[0m\n\u001b[0;32m----> 8\u001b[0;31m     \u001b[0mdframe\u001b[0m \u001b[0;34m=\u001b[0m \u001b[0mpd\u001b[0m\u001b[0;34m.\u001b[0m\u001b[0mread_sql\u001b[0m\u001b[0;34m(\u001b[0m\u001b[0mtext\u001b[0m\u001b[0;34m(\u001b[0m\u001b[0msql_query\u001b[0m\u001b[0;34m)\u001b[0m\u001b[0;34m,\u001b[0m \u001b[0mconnection\u001b[0m\u001b[0;34m)\u001b[0m\u001b[0;34m;\u001b[0m\u001b[0;34m\u001b[0m\u001b[0;34m\u001b[0m\u001b[0m\n\u001b[0m\u001b[1;32m      9\u001b[0m     \u001b[0mconnection\u001b[0m\u001b[0;34m.\u001b[0m\u001b[0mclose\u001b[0m\u001b[0;34m(\u001b[0m\u001b[0;34m)\u001b[0m\u001b[0;34m\u001b[0m\u001b[0;34m\u001b[0m\u001b[0m\n\u001b[1;32m     10\u001b[0m \u001b[0;34m\u001b[0m\u001b[0m\n",
      "\u001b[0;32m~/opt/anaconda3/lib/python3.8/site-packages/pandas/io/sql.py\u001b[0m in \u001b[0;36mread_sql\u001b[0;34m(sql, con, index_col, coerce_float, params, parse_dates, columns, chunksize)\u001b[0m\n\u001b[1;32m    519\u001b[0m         )\n\u001b[1;32m    520\u001b[0m     \u001b[0;32melse\u001b[0m\u001b[0;34m:\u001b[0m\u001b[0;34m\u001b[0m\u001b[0;34m\u001b[0m\u001b[0m\n\u001b[0;32m--> 521\u001b[0;31m         return pandas_sql.read_query(\n\u001b[0m\u001b[1;32m    522\u001b[0m             \u001b[0msql\u001b[0m\u001b[0;34m,\u001b[0m\u001b[0;34m\u001b[0m\u001b[0;34m\u001b[0m\u001b[0m\n\u001b[1;32m    523\u001b[0m             \u001b[0mindex_col\u001b[0m\u001b[0;34m=\u001b[0m\u001b[0mindex_col\u001b[0m\u001b[0;34m,\u001b[0m\u001b[0;34m\u001b[0m\u001b[0;34m\u001b[0m\u001b[0m\n",
      "\u001b[0;32m~/opt/anaconda3/lib/python3.8/site-packages/pandas/io/sql.py\u001b[0m in \u001b[0;36mread_query\u001b[0;34m(self, sql, index_col, coerce_float, parse_dates, params, chunksize)\u001b[0m\n\u001b[1;32m   1306\u001b[0m         \u001b[0margs\u001b[0m \u001b[0;34m=\u001b[0m \u001b[0m_convert_params\u001b[0m\u001b[0;34m(\u001b[0m\u001b[0msql\u001b[0m\u001b[0;34m,\u001b[0m \u001b[0mparams\u001b[0m\u001b[0;34m)\u001b[0m\u001b[0;34m\u001b[0m\u001b[0;34m\u001b[0m\u001b[0m\n\u001b[1;32m   1307\u001b[0m \u001b[0;34m\u001b[0m\u001b[0m\n\u001b[0;32m-> 1308\u001b[0;31m         \u001b[0mresult\u001b[0m \u001b[0;34m=\u001b[0m \u001b[0mself\u001b[0m\u001b[0;34m.\u001b[0m\u001b[0mexecute\u001b[0m\u001b[0;34m(\u001b[0m\u001b[0;34m*\u001b[0m\u001b[0margs\u001b[0m\u001b[0;34m)\u001b[0m\u001b[0;34m\u001b[0m\u001b[0;34m\u001b[0m\u001b[0m\n\u001b[0m\u001b[1;32m   1309\u001b[0m         \u001b[0mcolumns\u001b[0m \u001b[0;34m=\u001b[0m \u001b[0mresult\u001b[0m\u001b[0;34m.\u001b[0m\u001b[0mkeys\u001b[0m\u001b[0;34m(\u001b[0m\u001b[0;34m)\u001b[0m\u001b[0;34m\u001b[0m\u001b[0;34m\u001b[0m\u001b[0m\n\u001b[1;32m   1310\u001b[0m \u001b[0;34m\u001b[0m\u001b[0m\n",
      "\u001b[0;32m~/opt/anaconda3/lib/python3.8/site-packages/pandas/io/sql.py\u001b[0m in \u001b[0;36mexecute\u001b[0;34m(self, *args, **kwargs)\u001b[0m\n\u001b[1;32m   1174\u001b[0m     \u001b[0;32mdef\u001b[0m \u001b[0mexecute\u001b[0m\u001b[0;34m(\u001b[0m\u001b[0mself\u001b[0m\u001b[0;34m,\u001b[0m \u001b[0;34m*\u001b[0m\u001b[0margs\u001b[0m\u001b[0;34m,\u001b[0m \u001b[0;34m**\u001b[0m\u001b[0mkwargs\u001b[0m\u001b[0;34m)\u001b[0m\u001b[0;34m:\u001b[0m\u001b[0;34m\u001b[0m\u001b[0;34m\u001b[0m\u001b[0m\n\u001b[1;32m   1175\u001b[0m         \u001b[0;34m\"\"\"Simple passthrough to SQLAlchemy connectable\"\"\"\u001b[0m\u001b[0;34m\u001b[0m\u001b[0;34m\u001b[0m\u001b[0m\n\u001b[0;32m-> 1176\u001b[0;31m         \u001b[0;32mreturn\u001b[0m \u001b[0mself\u001b[0m\u001b[0;34m.\u001b[0m\u001b[0mconnectable\u001b[0m\u001b[0;34m.\u001b[0m\u001b[0mexecution_options\u001b[0m\u001b[0;34m(\u001b[0m\u001b[0;34m)\u001b[0m\u001b[0;34m.\u001b[0m\u001b[0mexecute\u001b[0m\u001b[0;34m(\u001b[0m\u001b[0;34m*\u001b[0m\u001b[0margs\u001b[0m\u001b[0;34m,\u001b[0m \u001b[0;34m**\u001b[0m\u001b[0mkwargs\u001b[0m\u001b[0;34m)\u001b[0m\u001b[0;34m\u001b[0m\u001b[0;34m\u001b[0m\u001b[0m\n\u001b[0m\u001b[1;32m   1177\u001b[0m \u001b[0;34m\u001b[0m\u001b[0m\n\u001b[1;32m   1178\u001b[0m     def read_table(\n",
      "\u001b[0;32m~/opt/anaconda3/lib/python3.8/site-packages/sqlalchemy/engine/base.py\u001b[0m in \u001b[0;36mexecute\u001b[0;34m(self, statement, *multiparams, **params)\u001b[0m\n\u001b[1;32m   1198\u001b[0m             )\n\u001b[1;32m   1199\u001b[0m         \u001b[0;32melse\u001b[0m\u001b[0;34m:\u001b[0m\u001b[0;34m\u001b[0m\u001b[0;34m\u001b[0m\u001b[0m\n\u001b[0;32m-> 1200\u001b[0;31m             \u001b[0;32mreturn\u001b[0m \u001b[0mmeth\u001b[0m\u001b[0;34m(\u001b[0m\u001b[0mself\u001b[0m\u001b[0;34m,\u001b[0m \u001b[0mmultiparams\u001b[0m\u001b[0;34m,\u001b[0m \u001b[0mparams\u001b[0m\u001b[0;34m,\u001b[0m \u001b[0m_EMPTY_EXECUTION_OPTS\u001b[0m\u001b[0;34m)\u001b[0m\u001b[0;34m\u001b[0m\u001b[0;34m\u001b[0m\u001b[0m\n\u001b[0m\u001b[1;32m   1201\u001b[0m \u001b[0;34m\u001b[0m\u001b[0m\n\u001b[1;32m   1202\u001b[0m     \u001b[0;32mdef\u001b[0m \u001b[0m_execute_function\u001b[0m\u001b[0;34m(\u001b[0m\u001b[0mself\u001b[0m\u001b[0;34m,\u001b[0m \u001b[0mfunc\u001b[0m\u001b[0;34m,\u001b[0m \u001b[0mmultiparams\u001b[0m\u001b[0;34m,\u001b[0m \u001b[0mparams\u001b[0m\u001b[0;34m,\u001b[0m \u001b[0mexecution_options\u001b[0m\u001b[0;34m)\u001b[0m\u001b[0;34m:\u001b[0m\u001b[0;34m\u001b[0m\u001b[0;34m\u001b[0m\u001b[0m\n",
      "\u001b[0;32m~/opt/anaconda3/lib/python3.8/site-packages/sqlalchemy/sql/elements.py\u001b[0m in \u001b[0;36m_execute_on_connection\u001b[0;34m(self, connection, multiparams, params, execution_options, _force)\u001b[0m\n\u001b[1;32m    311\u001b[0m     ):\n\u001b[1;32m    312\u001b[0m         \u001b[0;32mif\u001b[0m \u001b[0m_force\u001b[0m \u001b[0;32mor\u001b[0m \u001b[0mself\u001b[0m\u001b[0;34m.\u001b[0m\u001b[0msupports_execution\u001b[0m\u001b[0;34m:\u001b[0m\u001b[0;34m\u001b[0m\u001b[0;34m\u001b[0m\u001b[0m\n\u001b[0;32m--> 313\u001b[0;31m             return connection._execute_clauseelement(\n\u001b[0m\u001b[1;32m    314\u001b[0m                 \u001b[0mself\u001b[0m\u001b[0;34m,\u001b[0m \u001b[0mmultiparams\u001b[0m\u001b[0;34m,\u001b[0m \u001b[0mparams\u001b[0m\u001b[0;34m,\u001b[0m \u001b[0mexecution_options\u001b[0m\u001b[0;34m\u001b[0m\u001b[0;34m\u001b[0m\u001b[0m\n\u001b[1;32m    315\u001b[0m             )\n",
      "\u001b[0;32m~/opt/anaconda3/lib/python3.8/site-packages/sqlalchemy/engine/base.py\u001b[0m in \u001b[0;36m_execute_clauseelement\u001b[0;34m(self, elem, multiparams, params, execution_options)\u001b[0m\n\u001b[1;32m   1387\u001b[0m             \u001b[0mlinting\u001b[0m\u001b[0;34m=\u001b[0m\u001b[0mself\u001b[0m\u001b[0;34m.\u001b[0m\u001b[0mdialect\u001b[0m\u001b[0;34m.\u001b[0m\u001b[0mcompiler_linting\u001b[0m \u001b[0;34m|\u001b[0m \u001b[0mcompiler\u001b[0m\u001b[0;34m.\u001b[0m\u001b[0mWARN_LINTING\u001b[0m\u001b[0;34m,\u001b[0m\u001b[0;34m\u001b[0m\u001b[0;34m\u001b[0m\u001b[0m\n\u001b[1;32m   1388\u001b[0m         )\n\u001b[0;32m-> 1389\u001b[0;31m         ret = self._execute_context(\n\u001b[0m\u001b[1;32m   1390\u001b[0m             \u001b[0mdialect\u001b[0m\u001b[0;34m,\u001b[0m\u001b[0;34m\u001b[0m\u001b[0;34m\u001b[0m\u001b[0m\n\u001b[1;32m   1391\u001b[0m             \u001b[0mdialect\u001b[0m\u001b[0;34m.\u001b[0m\u001b[0mexecution_ctx_cls\u001b[0m\u001b[0;34m.\u001b[0m\u001b[0m_init_compiled\u001b[0m\u001b[0;34m,\u001b[0m\u001b[0;34m\u001b[0m\u001b[0;34m\u001b[0m\u001b[0m\n",
      "\u001b[0;32m~/opt/anaconda3/lib/python3.8/site-packages/sqlalchemy/engine/base.py\u001b[0m in \u001b[0;36m_execute_context\u001b[0;34m(self, dialect, constructor, statement, parameters, execution_options, *args, **kw)\u001b[0m\n\u001b[1;32m   1746\u001b[0m \u001b[0;34m\u001b[0m\u001b[0m\n\u001b[1;32m   1747\u001b[0m         \u001b[0;32mexcept\u001b[0m \u001b[0mBaseException\u001b[0m \u001b[0;32mas\u001b[0m \u001b[0me\u001b[0m\u001b[0;34m:\u001b[0m\u001b[0;34m\u001b[0m\u001b[0;34m\u001b[0m\u001b[0m\n\u001b[0;32m-> 1748\u001b[0;31m             self._handle_dbapi_exception(\n\u001b[0m\u001b[1;32m   1749\u001b[0m                 \u001b[0me\u001b[0m\u001b[0;34m,\u001b[0m \u001b[0mstatement\u001b[0m\u001b[0;34m,\u001b[0m \u001b[0mparameters\u001b[0m\u001b[0;34m,\u001b[0m \u001b[0mcursor\u001b[0m\u001b[0;34m,\u001b[0m \u001b[0mcontext\u001b[0m\u001b[0;34m\u001b[0m\u001b[0;34m\u001b[0m\u001b[0m\n\u001b[1;32m   1750\u001b[0m             )\n",
      "\u001b[0;32m~/opt/anaconda3/lib/python3.8/site-packages/sqlalchemy/engine/base.py\u001b[0m in \u001b[0;36m_handle_dbapi_exception\u001b[0;34m(self, e, statement, parameters, cursor, context)\u001b[0m\n\u001b[1;32m   1927\u001b[0m                 \u001b[0mutil\u001b[0m\u001b[0;34m.\u001b[0m\u001b[0mraise_\u001b[0m\u001b[0;34m(\u001b[0m\u001b[0mnewraise\u001b[0m\u001b[0;34m,\u001b[0m \u001b[0mwith_traceback\u001b[0m\u001b[0;34m=\u001b[0m\u001b[0mexc_info\u001b[0m\u001b[0;34m[\u001b[0m\u001b[0;36m2\u001b[0m\u001b[0;34m]\u001b[0m\u001b[0;34m,\u001b[0m \u001b[0mfrom_\u001b[0m\u001b[0;34m=\u001b[0m\u001b[0me\u001b[0m\u001b[0;34m)\u001b[0m\u001b[0;34m\u001b[0m\u001b[0;34m\u001b[0m\u001b[0m\n\u001b[1;32m   1928\u001b[0m             \u001b[0;32melif\u001b[0m \u001b[0mshould_wrap\u001b[0m\u001b[0;34m:\u001b[0m\u001b[0;34m\u001b[0m\u001b[0;34m\u001b[0m\u001b[0m\n\u001b[0;32m-> 1929\u001b[0;31m                 util.raise_(\n\u001b[0m\u001b[1;32m   1930\u001b[0m                     \u001b[0msqlalchemy_exception\u001b[0m\u001b[0;34m,\u001b[0m \u001b[0mwith_traceback\u001b[0m\u001b[0;34m=\u001b[0m\u001b[0mexc_info\u001b[0m\u001b[0;34m[\u001b[0m\u001b[0;36m2\u001b[0m\u001b[0;34m]\u001b[0m\u001b[0;34m,\u001b[0m \u001b[0mfrom_\u001b[0m\u001b[0;34m=\u001b[0m\u001b[0me\u001b[0m\u001b[0;34m\u001b[0m\u001b[0;34m\u001b[0m\u001b[0m\n\u001b[1;32m   1931\u001b[0m                 )\n",
      "\u001b[0;32m~/opt/anaconda3/lib/python3.8/site-packages/sqlalchemy/util/compat.py\u001b[0m in \u001b[0;36mraise_\u001b[0;34m(***failed resolving arguments***)\u001b[0m\n\u001b[1;32m    209\u001b[0m \u001b[0;34m\u001b[0m\u001b[0m\n\u001b[1;32m    210\u001b[0m         \u001b[0;32mtry\u001b[0m\u001b[0;34m:\u001b[0m\u001b[0;34m\u001b[0m\u001b[0;34m\u001b[0m\u001b[0m\n\u001b[0;32m--> 211\u001b[0;31m             \u001b[0;32mraise\u001b[0m \u001b[0mexception\u001b[0m\u001b[0;34m\u001b[0m\u001b[0;34m\u001b[0m\u001b[0m\n\u001b[0m\u001b[1;32m    212\u001b[0m         \u001b[0;32mfinally\u001b[0m\u001b[0;34m:\u001b[0m\u001b[0;34m\u001b[0m\u001b[0;34m\u001b[0m\u001b[0m\n\u001b[1;32m    213\u001b[0m             \u001b[0;31m# credit to\u001b[0m\u001b[0;34m\u001b[0m\u001b[0;34m\u001b[0m\u001b[0;34m\u001b[0m\u001b[0m\n",
      "\u001b[0;32m~/opt/anaconda3/lib/python3.8/site-packages/sqlalchemy/engine/base.py\u001b[0m in \u001b[0;36m_execute_context\u001b[0;34m(self, dialect, constructor, statement, parameters, execution_options, *args, **kw)\u001b[0m\n\u001b[1;32m   1703\u001b[0m                             \u001b[0;32mbreak\u001b[0m\u001b[0;34m\u001b[0m\u001b[0;34m\u001b[0m\u001b[0m\n\u001b[1;32m   1704\u001b[0m                 \u001b[0;32mif\u001b[0m \u001b[0;32mnot\u001b[0m \u001b[0mevt_handled\u001b[0m\u001b[0;34m:\u001b[0m\u001b[0;34m\u001b[0m\u001b[0;34m\u001b[0m\u001b[0m\n\u001b[0;32m-> 1705\u001b[0;31m                     self.dialect.do_execute(\n\u001b[0m\u001b[1;32m   1706\u001b[0m                         \u001b[0mcursor\u001b[0m\u001b[0;34m,\u001b[0m \u001b[0mstatement\u001b[0m\u001b[0;34m,\u001b[0m \u001b[0mparameters\u001b[0m\u001b[0;34m,\u001b[0m \u001b[0mcontext\u001b[0m\u001b[0;34m\u001b[0m\u001b[0;34m\u001b[0m\u001b[0m\n\u001b[1;32m   1707\u001b[0m                     )\n",
      "\u001b[0;32m~/opt/anaconda3/lib/python3.8/site-packages/sqlalchemy/engine/default.py\u001b[0m in \u001b[0;36mdo_execute\u001b[0;34m(self, cursor, statement, parameters, context)\u001b[0m\n\u001b[1;32m    690\u001b[0m \u001b[0;34m\u001b[0m\u001b[0m\n\u001b[1;32m    691\u001b[0m     \u001b[0;32mdef\u001b[0m \u001b[0mdo_execute\u001b[0m\u001b[0;34m(\u001b[0m\u001b[0mself\u001b[0m\u001b[0;34m,\u001b[0m \u001b[0mcursor\u001b[0m\u001b[0;34m,\u001b[0m \u001b[0mstatement\u001b[0m\u001b[0;34m,\u001b[0m \u001b[0mparameters\u001b[0m\u001b[0;34m,\u001b[0m \u001b[0mcontext\u001b[0m\u001b[0;34m=\u001b[0m\u001b[0;32mNone\u001b[0m\u001b[0;34m)\u001b[0m\u001b[0;34m:\u001b[0m\u001b[0;34m\u001b[0m\u001b[0;34m\u001b[0m\u001b[0m\n\u001b[0;32m--> 692\u001b[0;31m         \u001b[0mcursor\u001b[0m\u001b[0;34m.\u001b[0m\u001b[0mexecute\u001b[0m\u001b[0;34m(\u001b[0m\u001b[0mstatement\u001b[0m\u001b[0;34m,\u001b[0m \u001b[0mparameters\u001b[0m\u001b[0;34m)\u001b[0m\u001b[0;34m\u001b[0m\u001b[0;34m\u001b[0m\u001b[0m\n\u001b[0m\u001b[1;32m    693\u001b[0m \u001b[0;34m\u001b[0m\u001b[0m\n\u001b[1;32m    694\u001b[0m     \u001b[0;32mdef\u001b[0m \u001b[0mdo_execute_no_params\u001b[0m\u001b[0;34m(\u001b[0m\u001b[0mself\u001b[0m\u001b[0;34m,\u001b[0m \u001b[0mcursor\u001b[0m\u001b[0;34m,\u001b[0m \u001b[0mstatement\u001b[0m\u001b[0;34m,\u001b[0m \u001b[0mcontext\u001b[0m\u001b[0;34m=\u001b[0m\u001b[0;32mNone\u001b[0m\u001b[0;34m)\u001b[0m\u001b[0;34m:\u001b[0m\u001b[0;34m\u001b[0m\u001b[0;34m\u001b[0m\u001b[0m\n",
      "\u001b[0;32m~/opt/anaconda3/lib/python3.8/site-packages/pymysql/cursors.py\u001b[0m in \u001b[0;36mexecute\u001b[0;34m(self, query, args)\u001b[0m\n\u001b[1;32m    151\u001b[0m         \u001b[0mquery\u001b[0m \u001b[0;34m=\u001b[0m \u001b[0mself\u001b[0m\u001b[0;34m.\u001b[0m\u001b[0mmogrify\u001b[0m\u001b[0;34m(\u001b[0m\u001b[0mquery\u001b[0m\u001b[0;34m,\u001b[0m \u001b[0margs\u001b[0m\u001b[0;34m)\u001b[0m\u001b[0;34m\u001b[0m\u001b[0;34m\u001b[0m\u001b[0m\n\u001b[1;32m    152\u001b[0m \u001b[0;34m\u001b[0m\u001b[0m\n\u001b[0;32m--> 153\u001b[0;31m         \u001b[0mresult\u001b[0m \u001b[0;34m=\u001b[0m \u001b[0mself\u001b[0m\u001b[0;34m.\u001b[0m\u001b[0m_query\u001b[0m\u001b[0;34m(\u001b[0m\u001b[0mquery\u001b[0m\u001b[0;34m)\u001b[0m\u001b[0;34m\u001b[0m\u001b[0;34m\u001b[0m\u001b[0m\n\u001b[0m\u001b[1;32m    154\u001b[0m         \u001b[0mself\u001b[0m\u001b[0;34m.\u001b[0m\u001b[0m_executed\u001b[0m \u001b[0;34m=\u001b[0m \u001b[0mquery\u001b[0m\u001b[0;34m\u001b[0m\u001b[0;34m\u001b[0m\u001b[0m\n\u001b[1;32m    155\u001b[0m         \u001b[0;32mreturn\u001b[0m \u001b[0mresult\u001b[0m\u001b[0;34m\u001b[0m\u001b[0;34m\u001b[0m\u001b[0m\n",
      "\u001b[0;32m~/opt/anaconda3/lib/python3.8/site-packages/pymysql/cursors.py\u001b[0m in \u001b[0;36m_query\u001b[0;34m(self, q)\u001b[0m\n\u001b[1;32m    320\u001b[0m         \u001b[0mconn\u001b[0m \u001b[0;34m=\u001b[0m \u001b[0mself\u001b[0m\u001b[0;34m.\u001b[0m\u001b[0m_get_db\u001b[0m\u001b[0;34m(\u001b[0m\u001b[0;34m)\u001b[0m\u001b[0;34m\u001b[0m\u001b[0;34m\u001b[0m\u001b[0m\n\u001b[1;32m    321\u001b[0m         \u001b[0mself\u001b[0m\u001b[0;34m.\u001b[0m\u001b[0m_clear_result\u001b[0m\u001b[0;34m(\u001b[0m\u001b[0;34m)\u001b[0m\u001b[0;34m\u001b[0m\u001b[0;34m\u001b[0m\u001b[0m\n\u001b[0;32m--> 322\u001b[0;31m         \u001b[0mconn\u001b[0m\u001b[0;34m.\u001b[0m\u001b[0mquery\u001b[0m\u001b[0;34m(\u001b[0m\u001b[0mq\u001b[0m\u001b[0;34m)\u001b[0m\u001b[0;34m\u001b[0m\u001b[0;34m\u001b[0m\u001b[0m\n\u001b[0m\u001b[1;32m    323\u001b[0m         \u001b[0mself\u001b[0m\u001b[0;34m.\u001b[0m\u001b[0m_do_get_result\u001b[0m\u001b[0;34m(\u001b[0m\u001b[0;34m)\u001b[0m\u001b[0;34m\u001b[0m\u001b[0;34m\u001b[0m\u001b[0m\n\u001b[1;32m    324\u001b[0m         \u001b[0;32mreturn\u001b[0m \u001b[0mself\u001b[0m\u001b[0;34m.\u001b[0m\u001b[0mrowcount\u001b[0m\u001b[0;34m\u001b[0m\u001b[0;34m\u001b[0m\u001b[0m\n",
      "\u001b[0;32m~/opt/anaconda3/lib/python3.8/site-packages/pymysql/connections.py\u001b[0m in \u001b[0;36mquery\u001b[0;34m(self, sql, unbuffered)\u001b[0m\n\u001b[1;32m    561\u001b[0m             \u001b[0msql\u001b[0m \u001b[0;34m=\u001b[0m \u001b[0msql\u001b[0m\u001b[0;34m.\u001b[0m\u001b[0mencode\u001b[0m\u001b[0;34m(\u001b[0m\u001b[0mself\u001b[0m\u001b[0;34m.\u001b[0m\u001b[0mencoding\u001b[0m\u001b[0;34m,\u001b[0m \u001b[0;34m\"surrogateescape\"\u001b[0m\u001b[0;34m)\u001b[0m\u001b[0;34m\u001b[0m\u001b[0;34m\u001b[0m\u001b[0m\n\u001b[1;32m    562\u001b[0m         \u001b[0mself\u001b[0m\u001b[0;34m.\u001b[0m\u001b[0m_execute_command\u001b[0m\u001b[0;34m(\u001b[0m\u001b[0mCOMMAND\u001b[0m\u001b[0;34m.\u001b[0m\u001b[0mCOM_QUERY\u001b[0m\u001b[0;34m,\u001b[0m \u001b[0msql\u001b[0m\u001b[0;34m)\u001b[0m\u001b[0;34m\u001b[0m\u001b[0;34m\u001b[0m\u001b[0m\n\u001b[0;32m--> 563\u001b[0;31m         \u001b[0mself\u001b[0m\u001b[0;34m.\u001b[0m\u001b[0m_affected_rows\u001b[0m \u001b[0;34m=\u001b[0m \u001b[0mself\u001b[0m\u001b[0;34m.\u001b[0m\u001b[0m_read_query_result\u001b[0m\u001b[0;34m(\u001b[0m\u001b[0munbuffered\u001b[0m\u001b[0;34m=\u001b[0m\u001b[0munbuffered\u001b[0m\u001b[0;34m)\u001b[0m\u001b[0;34m\u001b[0m\u001b[0;34m\u001b[0m\u001b[0m\n\u001b[0m\u001b[1;32m    564\u001b[0m         \u001b[0;32mreturn\u001b[0m \u001b[0mself\u001b[0m\u001b[0;34m.\u001b[0m\u001b[0m_affected_rows\u001b[0m\u001b[0;34m\u001b[0m\u001b[0;34m\u001b[0m\u001b[0m\n\u001b[1;32m    565\u001b[0m \u001b[0;34m\u001b[0m\u001b[0m\n",
      "\u001b[0;32m~/opt/anaconda3/lib/python3.8/site-packages/pymysql/connections.py\u001b[0m in \u001b[0;36m_read_query_result\u001b[0;34m(self, unbuffered)\u001b[0m\n\u001b[1;32m    823\u001b[0m         \u001b[0;32melse\u001b[0m\u001b[0;34m:\u001b[0m\u001b[0;34m\u001b[0m\u001b[0;34m\u001b[0m\u001b[0m\n\u001b[1;32m    824\u001b[0m             \u001b[0mresult\u001b[0m \u001b[0;34m=\u001b[0m \u001b[0mMySQLResult\u001b[0m\u001b[0;34m(\u001b[0m\u001b[0mself\u001b[0m\u001b[0;34m)\u001b[0m\u001b[0;34m\u001b[0m\u001b[0;34m\u001b[0m\u001b[0m\n\u001b[0;32m--> 825\u001b[0;31m             \u001b[0mresult\u001b[0m\u001b[0;34m.\u001b[0m\u001b[0mread\u001b[0m\u001b[0;34m(\u001b[0m\u001b[0;34m)\u001b[0m\u001b[0;34m\u001b[0m\u001b[0;34m\u001b[0m\u001b[0m\n\u001b[0m\u001b[1;32m    826\u001b[0m         \u001b[0mself\u001b[0m\u001b[0;34m.\u001b[0m\u001b[0m_result\u001b[0m \u001b[0;34m=\u001b[0m \u001b[0mresult\u001b[0m\u001b[0;34m\u001b[0m\u001b[0;34m\u001b[0m\u001b[0m\n\u001b[1;32m    827\u001b[0m         \u001b[0;32mif\u001b[0m \u001b[0mresult\u001b[0m\u001b[0;34m.\u001b[0m\u001b[0mserver_status\u001b[0m \u001b[0;32mis\u001b[0m \u001b[0;32mnot\u001b[0m \u001b[0;32mNone\u001b[0m\u001b[0;34m:\u001b[0m\u001b[0;34m\u001b[0m\u001b[0;34m\u001b[0m\u001b[0m\n",
      "\u001b[0;32m~/opt/anaconda3/lib/python3.8/site-packages/pymysql/connections.py\u001b[0m in \u001b[0;36mread\u001b[0;34m(self)\u001b[0m\n\u001b[1;32m   1197\u001b[0m     \u001b[0;32mdef\u001b[0m \u001b[0mread\u001b[0m\u001b[0;34m(\u001b[0m\u001b[0mself\u001b[0m\u001b[0;34m)\u001b[0m\u001b[0;34m:\u001b[0m\u001b[0;34m\u001b[0m\u001b[0;34m\u001b[0m\u001b[0m\n\u001b[1;32m   1198\u001b[0m         \u001b[0;32mtry\u001b[0m\u001b[0;34m:\u001b[0m\u001b[0;34m\u001b[0m\u001b[0;34m\u001b[0m\u001b[0m\n\u001b[0;32m-> 1199\u001b[0;31m             \u001b[0mfirst_packet\u001b[0m \u001b[0;34m=\u001b[0m \u001b[0mself\u001b[0m\u001b[0;34m.\u001b[0m\u001b[0mconnection\u001b[0m\u001b[0;34m.\u001b[0m\u001b[0m_read_packet\u001b[0m\u001b[0;34m(\u001b[0m\u001b[0;34m)\u001b[0m\u001b[0;34m\u001b[0m\u001b[0;34m\u001b[0m\u001b[0m\n\u001b[0m\u001b[1;32m   1200\u001b[0m \u001b[0;34m\u001b[0m\u001b[0m\n\u001b[1;32m   1201\u001b[0m             \u001b[0;32mif\u001b[0m \u001b[0mfirst_packet\u001b[0m\u001b[0;34m.\u001b[0m\u001b[0mis_ok_packet\u001b[0m\u001b[0;34m(\u001b[0m\u001b[0;34m)\u001b[0m\u001b[0;34m:\u001b[0m\u001b[0;34m\u001b[0m\u001b[0;34m\u001b[0m\u001b[0m\n",
      "\u001b[0;32m~/opt/anaconda3/lib/python3.8/site-packages/pymysql/connections.py\u001b[0m in \u001b[0;36m_read_packet\u001b[0;34m(self, packet_type)\u001b[0m\n\u001b[1;32m    773\u001b[0m             \u001b[0;32mif\u001b[0m \u001b[0mself\u001b[0m\u001b[0;34m.\u001b[0m\u001b[0m_result\u001b[0m \u001b[0;32mis\u001b[0m \u001b[0;32mnot\u001b[0m \u001b[0;32mNone\u001b[0m \u001b[0;32mand\u001b[0m \u001b[0mself\u001b[0m\u001b[0;34m.\u001b[0m\u001b[0m_result\u001b[0m\u001b[0;34m.\u001b[0m\u001b[0munbuffered_active\u001b[0m \u001b[0;32mis\u001b[0m \u001b[0;32mTrue\u001b[0m\u001b[0;34m:\u001b[0m\u001b[0;34m\u001b[0m\u001b[0;34m\u001b[0m\u001b[0m\n\u001b[1;32m    774\u001b[0m                 \u001b[0mself\u001b[0m\u001b[0;34m.\u001b[0m\u001b[0m_result\u001b[0m\u001b[0;34m.\u001b[0m\u001b[0munbuffered_active\u001b[0m \u001b[0;34m=\u001b[0m \u001b[0;32mFalse\u001b[0m\u001b[0;34m\u001b[0m\u001b[0;34m\u001b[0m\u001b[0m\n\u001b[0;32m--> 775\u001b[0;31m             \u001b[0mpacket\u001b[0m\u001b[0;34m.\u001b[0m\u001b[0mraise_for_error\u001b[0m\u001b[0;34m(\u001b[0m\u001b[0;34m)\u001b[0m\u001b[0;34m\u001b[0m\u001b[0;34m\u001b[0m\u001b[0m\n\u001b[0m\u001b[1;32m    776\u001b[0m         \u001b[0;32mreturn\u001b[0m \u001b[0mpacket\u001b[0m\u001b[0;34m\u001b[0m\u001b[0;34m\u001b[0m\u001b[0m\n\u001b[1;32m    777\u001b[0m \u001b[0;34m\u001b[0m\u001b[0m\n",
      "\u001b[0;32m~/opt/anaconda3/lib/python3.8/site-packages/pymysql/protocol.py\u001b[0m in \u001b[0;36mraise_for_error\u001b[0;34m(self)\u001b[0m\n\u001b[1;32m    217\u001b[0m         \u001b[0;32mif\u001b[0m \u001b[0mDEBUG\u001b[0m\u001b[0;34m:\u001b[0m\u001b[0;34m\u001b[0m\u001b[0;34m\u001b[0m\u001b[0m\n\u001b[1;32m    218\u001b[0m             \u001b[0mprint\u001b[0m\u001b[0;34m(\u001b[0m\u001b[0;34m\"errno =\"\u001b[0m\u001b[0;34m,\u001b[0m \u001b[0merrno\u001b[0m\u001b[0;34m)\u001b[0m\u001b[0;34m\u001b[0m\u001b[0;34m\u001b[0m\u001b[0m\n\u001b[0;32m--> 219\u001b[0;31m         \u001b[0merr\u001b[0m\u001b[0;34m.\u001b[0m\u001b[0mraise_mysql_exception\u001b[0m\u001b[0;34m(\u001b[0m\u001b[0mself\u001b[0m\u001b[0;34m.\u001b[0m\u001b[0m_data\u001b[0m\u001b[0;34m)\u001b[0m\u001b[0;34m\u001b[0m\u001b[0;34m\u001b[0m\u001b[0m\n\u001b[0m\u001b[1;32m    220\u001b[0m \u001b[0;34m\u001b[0m\u001b[0m\n\u001b[1;32m    221\u001b[0m     \u001b[0;32mdef\u001b[0m \u001b[0mdump\u001b[0m\u001b[0;34m(\u001b[0m\u001b[0mself\u001b[0m\u001b[0;34m)\u001b[0m\u001b[0;34m:\u001b[0m\u001b[0;34m\u001b[0m\u001b[0;34m\u001b[0m\u001b[0m\n",
      "\u001b[0;32m~/opt/anaconda3/lib/python3.8/site-packages/pymysql/err.py\u001b[0m in \u001b[0;36mraise_mysql_exception\u001b[0;34m(data)\u001b[0m\n\u001b[1;32m    148\u001b[0m     \u001b[0;32mif\u001b[0m \u001b[0merrorclass\u001b[0m \u001b[0;32mis\u001b[0m \u001b[0;32mNone\u001b[0m\u001b[0;34m:\u001b[0m\u001b[0;34m\u001b[0m\u001b[0;34m\u001b[0m\u001b[0m\n\u001b[1;32m    149\u001b[0m         \u001b[0merrorclass\u001b[0m \u001b[0;34m=\u001b[0m \u001b[0mInternalError\u001b[0m \u001b[0;32mif\u001b[0m \u001b[0merrno\u001b[0m \u001b[0;34m<\u001b[0m \u001b[0;36m1000\u001b[0m \u001b[0;32melse\u001b[0m \u001b[0mOperationalError\u001b[0m\u001b[0;34m\u001b[0m\u001b[0;34m\u001b[0m\u001b[0m\n\u001b[0;32m--> 150\u001b[0;31m     \u001b[0;32mraise\u001b[0m \u001b[0merrorclass\u001b[0m\u001b[0;34m(\u001b[0m\u001b[0merrno\u001b[0m\u001b[0;34m,\u001b[0m \u001b[0merrval\u001b[0m\u001b[0;34m)\u001b[0m\u001b[0;34m\u001b[0m\u001b[0;34m\u001b[0m\u001b[0m\n\u001b[0m",
      "\u001b[0;31mProgrammingError\u001b[0m: (pymysql.err.ProgrammingError) (1146, \"Table 'adventureworks_dw.dim_date' doesn't exist\")\n[SQL: SELECT * FROM dim_date;]\n(Background on this error at: http://sqlalche.me/e/14/f405)"
     ]
    }
   ],
   "source": [
    "# Retrieve and display date dimension table from adventureworks data warehouse\n",
    "sql_date = \"SELECT * FROM dim_date;\"\n",
    "df_date = get_sql_dataframe(sql_date, **dst_mysql_args)\n",
    "df_date.head(2)"
   ]
  },
  {
   "cell_type": "markdown",
   "id": "4071e2a8",
   "metadata": {},
   "source": [
    "#### Verify success of ETL operations for customer dimension"
   ]
  },
  {
   "cell_type": "code",
   "execution_count": null,
   "id": "d0d49a8f",
   "metadata": {},
   "outputs": [],
   "source": [
    "# Retrieve and display customer dimension table from adventureworks data warehouse\n",
    "sql_customers = \"SELECT * FROM dim_customers;\"\n",
    "df_verify_customers = get_sql_dataframe(sql_customers, **dst_mysql_args)\n",
    "df_verify_customers.head(2)"
   ]
  },
  {
   "cell_type": "markdown",
   "id": "bd25fa23",
   "metadata": {},
   "source": [
    "### ETL Process for MongoDB - Populate MongoDB with Source Data"
   ]
  },
  {
   "cell_type": "markdown",
   "id": "ca54d5e5",
   "metadata": {},
   "source": [
    "#### Write an SQL query for the employee dimension"
   ]
  },
  {
   "cell_type": "markdown",
   "id": "11595fec",
   "metadata": {},
   "source": [
    "Note: did not include rowguid in Employee table since it is irrelevant. Also did not include CurrentFlag in Employee table since its value is 1 for all employees. "
   ]
  },
  {
   "cell_type": "code",
   "execution_count": null,
   "id": "1b21fa8d",
   "metadata": {},
   "outputs": [],
   "source": [
    "sql_dim_employees = \"\"\"\n",
    "SELECT\n",
    "    e.EmployeeID,\n",
    "    e.NationalIDNumber,\n",
    "    e.ContactID,\n",
    "    e.LoginID,\n",
    "    e.ManagerID,\n",
    "    e.Title AS EmployeeTitle,\n",
    "    e.BirthDate,\n",
    "    e.MaritalStatus,\n",
    "    e.Gender,\n",
    "    e.HireDate,\n",
    "    e.SalariedFlag,\n",
    "    e.VacationHours,\n",
    "    e.SickLeaveHours,\n",
    "    e.ModifiedDate AS EmployeeModifiedDate,\n",
    "\n",
    "    c.FirstName,\n",
    "    c.MiddleName,\n",
    "    c.LastName,\n",
    "    c.EmailAddress,\n",
    "    c.Phone,\n",
    "    c.ModifiedDate AS ContactModifiedDate,\n",
    "\n",
    "    ea.AddressID,\n",
    "    ea.ModifiedDate AS EmployeeAddressModifiedDate,\n",
    "\n",
    "    a.AddressLine1,\n",
    "    a.AddressLine2,\n",
    "    a.City,\n",
    "    a.PostalCode,\n",
    "    a.ModifiedDate AS AddressModifiedDate,\n",
    "\n",
    "    edh.DepartmentID,\n",
    "    edh.ShiftID,\n",
    "    edh.StartDate AS DeptStartDate,\n",
    "    edh.EndDate AS DeptEndDate,\n",
    "    edh.ModifiedDate AS DeptHistModifiedDate,\n",
    "\n",
    "    d.Name AS DeptName,\n",
    "    d.GroupName,\n",
    "    d.ModifiedDate AS DeptModifiedDate,\n",
    "    \n",
    "    s.Name AS ShiftName,\n",
    "    s.StartTime AS ShiftStartTime,\n",
    "    s.EndTime AS ShiftEndTime,\n",
    "    s.ModifiedDate AS ShiftModifiedDate,\n",
    "\n",
    "    eph.RateChangeDate,\n",
    "    eph.Rate,\n",
    "    eph.PayFrequency,\n",
    "    eph.ModifiedDate AS PayHistModifiedDate\n",
    "\n",
    "FROM employee e\n",
    "LEFT JOIN contact c\n",
    "    ON e.ContactID = c.ContactID\n",
    "LEFT JOIN employeeaddress ea\n",
    "    ON e.EmployeeID = ea.EmployeeID\n",
    "LEFT JOIN address a\n",
    "    ON ea.AddressID = a.AddressID\n",
    "LEFT JOIN employeedepartmenthistory edh\n",
    "    ON e.EmployeeID = edh.EmployeeID\n",
    "LEFT JOIN department d\n",
    "    ON edh.DepartmentID = d.DepartmentID\n",
    "LEFT JOIN shift s\n",
    "    ON edh.ShiftID = s.ShiftID\n",
    "LEFT JOIN employeepayhistory eph\n",
    "    ON e.EmployeeID = eph.EmployeeID\n",
    "\"\"\""
   ]
  },
  {
   "cell_type": "markdown",
   "id": "a6edb7b6",
   "metadata": {},
   "source": [
    "#### Extract step: get employee data from MySQL"
   ]
  },
  {
   "cell_type": "code",
   "execution_count": null,
   "id": "5bdb65e3",
   "metadata": {
    "scrolled": false
   },
   "outputs": [],
   "source": [
    "df_employee = get_sql_dataframe(sql_dim_employees, **src_mysql_args)\n",
    "df_employee.head(2)"
   ]
  },
  {
   "cell_type": "markdown",
   "id": "621f9e8a",
   "metadata": {},
   "source": [
    "#### Validate dataframe columns for JSON conversion \n",
    "This was a troubleshooting step, since there was initially an error that some column(s) cannot be encoded into UTF-8 when converting the dataframe to JSON. Without being compatible for UTF-8 encoding, the dataframe cannot be converted into a JSON file. So, this code iterates through the columns to find which ones are problematic."
   ]
  },
  {
   "cell_type": "code",
   "execution_count": null,
   "id": "290dcc7f",
   "metadata": {},
   "outputs": [],
   "source": [
    "for col in df_employee.select_dtypes(include=['object']).columns:\n",
    "    for value in df_employee[col]:\n",
    "        if value is None:\n",
    "            continue\n",
    "        try:\n",
    "            value.encode('utf-8')\n",
    "        except Exception as e:\n",
    "            print(f\"Error in column '{col}' for value '{value}'\")\n",
    "            break # proceed to check next column "
   ]
  },
  {
   "cell_type": "markdown",
   "id": "ee3c4a64",
   "metadata": {},
   "source": [
    "#### Transform step: convert byte values in SalariedFlag into Integers\n",
    "The problematic column was found to be `SalariedFlag`, which had at least one value of type `byte`. This code iterates through the values in `SalariedFlag` and converts the byte types into integers so they are compatible with JSON."
   ]
  },
  {
   "cell_type": "code",
   "execution_count": null,
   "id": "d59ee5a6",
   "metadata": {},
   "outputs": [],
   "source": [
    "def byte_to_int(val):\n",
    "    if isinstance(val, bytes):\n",
    "        return int.from_bytes(val, 'big')\n",
    "    return val\n",
    "df_employee['SalariedFlag'] = df_employee['SalariedFlag'].apply(byte_to_int)"
   ]
  },
  {
   "cell_type": "markdown",
   "id": "b679fa8a",
   "metadata": {},
   "source": [
    "#### Export dataframe resulting from SQL Query to JSON "
   ]
  },
  {
   "cell_type": "code",
   "execution_count": null,
   "id": "4dc0a0af",
   "metadata": {},
   "outputs": [],
   "source": [
    "file = os.path.join(os.getcwd(), 'adventureworks_employee.json')\n",
    "df_employee.to_json(file, orient='records')"
   ]
  },
  {
   "cell_type": "markdown",
   "id": "fac7e9ec",
   "metadata": {},
   "source": [
    "#### Load step: Upload JSON data of employee dimension into MongoDB"
   ]
  },
  {
   "cell_type": "code",
   "execution_count": null,
   "id": "ac7bf870",
   "metadata": {},
   "outputs": [],
   "source": [
    "client = get_mongo_client(**mongodb_args)\n",
    "data_dir = os.getcwd()\n",
    "set_mongo_collections(client, mongodb_args[\"db_name\"], data_dir, {\"employees\":\"adventureworks_employee.json\"})      "
   ]
  },
  {
   "cell_type": "markdown",
   "id": "aa9ede9d",
   "metadata": {},
   "source": [
    "### ETL Process for MongoDB - Create and Populate Employee Dimension Table"
   ]
  },
  {
   "cell_type": "markdown",
   "id": "d0ee7181",
   "metadata": {},
   "source": [
    "#### Extract step: get data from the source MongoDB collection into a DataFrame"
   ]
  },
  {
   "cell_type": "code",
   "execution_count": null,
   "id": "2aefef89",
   "metadata": {},
   "outputs": [],
   "source": [
    "client = get_mongo_client(**mongodb_args)\n",
    "\n",
    "query = {} # Select all elements (columns), and all documents (rows).\n",
    "collection = \"employees\"\n",
    "\n",
    "df_employee = get_mongo_dataframe(client, mongodb_args[\"db_name\"], collection, query)\n",
    "df_employee.head(2)"
   ]
  },
  {
   "cell_type": "markdown",
   "id": "f70f0644",
   "metadata": {},
   "source": [
    "#### Transform step: drop/rename/reorder columns in employees dimension "
   ]
  },
  {
   "cell_type": "code",
   "execution_count": null,
   "id": "74689ae2",
   "metadata": {},
   "outputs": [],
   "source": [
    "# Drop redundant/irrelevant columns\n",
    "df_employee.drop(columns=[\n",
    "    'ContactID',\n",
    "    'AddressID', \n",
    "    'DepartmentID', \n",
    "    'ShiftID', \n",
    "    'AddressModifiedDate',\n",
    "    'DeptModifiedDate', \n",
    "    'ShiftModifiedDate'\n",
    "], inplace=True)\n",
    "\n",
    "df_employee = df_employee.rename(columns={\n",
    "    'EmployeeAddressModifiedDate': 'AddressModifiedDate',\n",
    "    'DeptHistModifiedDate': 'DeptModifiedDate',\n",
    "})\n",
    "\n",
    "\n",
    "ordered_cols = [\n",
    "    \"EmployeeID\",\n",
    "    \"NationalIDNumber\",\n",
    "    \"LoginID\",\n",
    "    \"ManagerID\",\n",
    "    \"EmployeeTitle\",\n",
    "    \"BirthDate\",\n",
    "    \"MaritalStatus\",\n",
    "    \"Gender\",\n",
    "    \"HireDate\",\n",
    "    \"SalariedFlag\",\n",
    "    \"VacationHours\",\n",
    "    \"SickLeaveHours\",\n",
    "    \"EmployeeModifiedDate\",\n",
    "    \"FirstName\",\n",
    "    \"MiddleName\",\n",
    "    \"LastName\",\n",
    "    \"EmailAddress\",\n",
    "    \"Phone\",\n",
    "    \"ContactModifiedDate\",\n",
    "    \"AddressLine1\",\n",
    "    \"AddressLine2\",\n",
    "    \"City\",\n",
    "    \"PostalCode\",\n",
    "    \"AddressModifiedDate\",\n",
    "    \"DeptName\",\n",
    "    \"GroupName\",\n",
    "    \"DeptStartDate\",\n",
    "    \"DeptEndDate\",\n",
    "    \"DeptModifiedDate\",\n",
    "    \"ShiftName\",\n",
    "    \"ShiftStartTime\",\n",
    "    \"ShiftEndTime\",\n",
    "    \"Rate\",\n",
    "    \"RateChangeDate\",\n",
    "    \"PayFrequency\",\n",
    "    \"PayHistModifiedDate\"\n",
    "]\n",
    "\n",
    "df_employee = df_employee[ordered_cols]\n",
    "\n",
    "# 3. Insert a new column, with an ever-incrementing numeric value, to serve as the primary key.\n",
    "df_employee.insert(0, \"EmployeeKey\", range(1, df_employee.shape[0] + 1))\n",
    "df_employee.head(2)"
   ]
  },
  {
   "cell_type": "markdown",
   "id": "b6332b2c",
   "metadata": {},
   "source": [
    "#### Load step: load the transformed dataframe into AdventureWorks data warehouse by creating a new table"
   ]
  },
  {
   "cell_type": "code",
   "execution_count": null,
   "id": "321ed4b8",
   "metadata": {},
   "outputs": [],
   "source": [
    "dataframe = df_employee\n",
    "table_name = 'dim_employees'\n",
    "primary_key = 'EmployeeKey'\n",
    "db_operation = \"insert\"\n",
    "\n",
    "set_dataframe(dataframe, table_name, primary_key, db_operation, **dst_mysql_args)"
   ]
  },
  {
   "cell_type": "markdown",
   "id": "ff83bec7",
   "metadata": {},
   "source": [
    "#### Validate that employee dimension table was created"
   ]
  },
  {
   "cell_type": "code",
   "execution_count": null,
   "id": "0b636aba",
   "metadata": {
    "scrolled": true
   },
   "outputs": [],
   "source": [
    "sql_employees = \"SELECT * FROM adventureworks_dw.dim_employees;\"\n",
    "df_dim_employees = get_sql_dataframe(sql_employees, **dst_mysql_args)\n",
    "df_dim_employees.head(2)"
   ]
  },
  {
   "cell_type": "markdown",
   "id": "c192c73a",
   "metadata": {},
   "source": [
    "### ETL Process for CSV file"
   ]
  },
  {
   "cell_type": "markdown",
   "id": "901903eb",
   "metadata": {},
   "source": [
    "#### Write an SQL query for the vendor dimension"
   ]
  },
  {
   "cell_type": "code",
   "execution_count": 12,
   "id": "0b65c498",
   "metadata": {},
   "outputs": [],
   "source": [
    "sql_dim_vendors = \"\"\"\n",
    "SELECT\n",
    "    v.VendorID,\n",
    "    v.AccountNumber,\n",
    "    v.Name AS VendorName,\n",
    "    v.CreditRating,\n",
    "    v.PreferredVendorStatus,\n",
    "    v.ActiveFlag,\n",
    "    v.PurchasingWebServiceURL,\n",
    "    v.ModifiedDate AS VendorModifiedDate,\n",
    "\n",
    "    va.AddressID,\n",
    "    va.AddressTypeID,\n",
    "    va.ModifiedDate AS VendorAddressModifiedDate,\n",
    "\n",
    "    a.AddressLine1,\n",
    "    a.AddressLine2,\n",
    "    a.City,\n",
    "    a.PostalCode,\n",
    "    a.ModifiedDate AS AddressModifiedDate,\n",
    "\n",
    "    at.Name AS AddressTypeName,\n",
    "\n",
    "    vc.ContactID,\n",
    "    vc.ContactTypeID,\n",
    "    vc.ModifiedDate AS VendorContactModifiedDate,\n",
    "\n",
    "    c.FirstName,\n",
    "    c.MiddleName,\n",
    "    c.LastName,\n",
    "    c.EmailAddress,\n",
    "    c.Phone,\n",
    "    c.ModifiedDate AS ContactModifiedDate,\n",
    "\n",
    "    ct.Name AS ContactTypeName\n",
    "\n",
    "FROM vendor v\n",
    "LEFT JOIN vendoraddress va \n",
    "       ON v.VendorID = va.VendorID\n",
    "LEFT JOIN address a \n",
    "       ON va.AddressID = a.AddressID\n",
    "LEFT JOIN addresstype at\n",
    "       ON va.AddressTypeID = at.AddressTypeID\n",
    "LEFT JOIN vendorcontact vc\n",
    "       ON v.VendorID = vc.VendorID\n",
    "LEFT JOIN contact c\n",
    "       ON vc.ContactID = c.ContactID\n",
    "LEFT JOIN contacttype ct\n",
    "       ON vc.ContactTypeID = ct.ContactTypeID;\n",
    "\"\"\""
   ]
  },
  {
   "cell_type": "markdown",
   "id": "cb9708cf",
   "metadata": {},
   "source": [
    "#### Extract step: get vendor data from MySQL"
   ]
  },
  {
   "cell_type": "code",
   "execution_count": 13,
   "id": "fed11f47",
   "metadata": {},
   "outputs": [
    {
     "data": {
      "text/html": [
       "<div>\n",
       "<style scoped>\n",
       "    .dataframe tbody tr th:only-of-type {\n",
       "        vertical-align: middle;\n",
       "    }\n",
       "\n",
       "    .dataframe tbody tr th {\n",
       "        vertical-align: top;\n",
       "    }\n",
       "\n",
       "    .dataframe thead th {\n",
       "        text-align: right;\n",
       "    }\n",
       "</style>\n",
       "<table border=\"1\" class=\"dataframe\">\n",
       "  <thead>\n",
       "    <tr style=\"text-align: right;\">\n",
       "      <th></th>\n",
       "      <th>VendorID</th>\n",
       "      <th>AccountNumber</th>\n",
       "      <th>VendorName</th>\n",
       "      <th>CreditRating</th>\n",
       "      <th>PreferredVendorStatus</th>\n",
       "      <th>ActiveFlag</th>\n",
       "      <th>PurchasingWebServiceURL</th>\n",
       "      <th>VendorModifiedDate</th>\n",
       "      <th>AddressID</th>\n",
       "      <th>AddressTypeID</th>\n",
       "      <th>...</th>\n",
       "      <th>ContactID</th>\n",
       "      <th>ContactTypeID</th>\n",
       "      <th>VendorContactModifiedDate</th>\n",
       "      <th>FirstName</th>\n",
       "      <th>MiddleName</th>\n",
       "      <th>LastName</th>\n",
       "      <th>EmailAddress</th>\n",
       "      <th>Phone</th>\n",
       "      <th>ContactModifiedDate</th>\n",
       "      <th>ContactTypeName</th>\n",
       "    </tr>\n",
       "  </thead>\n",
       "  <tbody>\n",
       "    <tr>\n",
       "      <th>0</th>\n",
       "      <td>1</td>\n",
       "      <td>INTERNAT0001</td>\n",
       "      <td>International</td>\n",
       "      <td>1</td>\n",
       "      <td>b'\\x01'</td>\n",
       "      <td>b'\\x01'</td>\n",
       "      <td>None</td>\n",
       "      <td>2002-02-25</td>\n",
       "      <td>357</td>\n",
       "      <td>3</td>\n",
       "      <td>...</td>\n",
       "      <td>610</td>\n",
       "      <td>2</td>\n",
       "      <td>2002-02-25</td>\n",
       "      <td>Julia</td>\n",
       "      <td>None</td>\n",
       "      <td>Moseley</td>\n",
       "      <td>julia0@adventure-works.com</td>\n",
       "      <td>432-555-0100</td>\n",
       "      <td>2002-02-25</td>\n",
       "      <td>Assistant Sales Agent</td>\n",
       "    </tr>\n",
       "    <tr>\n",
       "      <th>1</th>\n",
       "      <td>2</td>\n",
       "      <td>ELECTRON0002</td>\n",
       "      <td>Electronic Bike Repair &amp; Supplies</td>\n",
       "      <td>1</td>\n",
       "      <td>b'\\x01'</td>\n",
       "      <td>b'\\x01'</td>\n",
       "      <td>None</td>\n",
       "      <td>2002-02-17</td>\n",
       "      <td>335</td>\n",
       "      <td>3</td>\n",
       "      <td>...</td>\n",
       "      <td>678</td>\n",
       "      <td>2</td>\n",
       "      <td>2002-02-17</td>\n",
       "      <td>Sean</td>\n",
       "      <td>None</td>\n",
       "      <td>Purcell</td>\n",
       "      <td>sean5@adventure-works.com</td>\n",
       "      <td>130-555-0100</td>\n",
       "      <td>2002-02-17</td>\n",
       "      <td>Assistant Sales Agent</td>\n",
       "    </tr>\n",
       "  </tbody>\n",
       "</table>\n",
       "<p>2 rows × 27 columns</p>\n",
       "</div>"
      ],
      "text/plain": [
       "   VendorID AccountNumber                         VendorName  CreditRating  \\\n",
       "0         1  INTERNAT0001                      International             1   \n",
       "1         2  ELECTRON0002  Electronic Bike Repair & Supplies             1   \n",
       "\n",
       "  PreferredVendorStatus ActiveFlag PurchasingWebServiceURL VendorModifiedDate  \\\n",
       "0               b'\\x01'    b'\\x01'                    None         2002-02-25   \n",
       "1               b'\\x01'    b'\\x01'                    None         2002-02-17   \n",
       "\n",
       "   AddressID  AddressTypeID  ... ContactID ContactTypeID  \\\n",
       "0        357              3  ...       610             2   \n",
       "1        335              3  ...       678             2   \n",
       "\n",
       "  VendorContactModifiedDate FirstName MiddleName LastName  \\\n",
       "0                2002-02-25     Julia       None  Moseley   \n",
       "1                2002-02-17      Sean       None  Purcell   \n",
       "\n",
       "                 EmailAddress         Phone  ContactModifiedDate  \\\n",
       "0  julia0@adventure-works.com  432-555-0100           2002-02-25   \n",
       "1   sean5@adventure-works.com  130-555-0100           2002-02-17   \n",
       "\n",
       "         ContactTypeName  \n",
       "0  Assistant Sales Agent  \n",
       "1  Assistant Sales Agent  \n",
       "\n",
       "[2 rows x 27 columns]"
      ]
     },
     "execution_count": 13,
     "metadata": {},
     "output_type": "execute_result"
    }
   ],
   "source": [
    "df_vendor = get_sql_dataframe(sql_dim_vendors, **src_mysql_args)\n",
    "df_vendor.head(2)"
   ]
  },
  {
   "cell_type": "markdown",
   "id": "97128f2d",
   "metadata": {},
   "source": [
    "#### Transform step: drop, rename, and reorder columns in vendor dimension"
   ]
  },
  {
   "cell_type": "code",
   "execution_count": 14,
   "id": "70d9f6c5",
   "metadata": {},
   "outputs": [
    {
     "data": {
      "text/html": [
       "<div>\n",
       "<style scoped>\n",
       "    .dataframe tbody tr th:only-of-type {\n",
       "        vertical-align: middle;\n",
       "    }\n",
       "\n",
       "    .dataframe tbody tr th {\n",
       "        vertical-align: top;\n",
       "    }\n",
       "\n",
       "    .dataframe thead th {\n",
       "        text-align: right;\n",
       "    }\n",
       "</style>\n",
       "<table border=\"1\" class=\"dataframe\">\n",
       "  <thead>\n",
       "    <tr style=\"text-align: right;\">\n",
       "      <th></th>\n",
       "      <th>VendorKey</th>\n",
       "      <th>VendorID</th>\n",
       "      <th>AccountNumber</th>\n",
       "      <th>VendorName</th>\n",
       "      <th>CreditRating</th>\n",
       "      <th>PreferredVendorStatus</th>\n",
       "      <th>ActiveFlag</th>\n",
       "      <th>VendorModifiedDate</th>\n",
       "      <th>AddressLine1</th>\n",
       "      <th>AddressLine2</th>\n",
       "      <th>City</th>\n",
       "      <th>PostalCode</th>\n",
       "      <th>AddressModifiedDate</th>\n",
       "      <th>FirstName</th>\n",
       "      <th>MiddleName</th>\n",
       "      <th>LastName</th>\n",
       "      <th>EmailAddress</th>\n",
       "      <th>Phone</th>\n",
       "      <th>ContactTypeName</th>\n",
       "      <th>ContactModifiedDate</th>\n",
       "    </tr>\n",
       "  </thead>\n",
       "  <tbody>\n",
       "    <tr>\n",
       "      <th>0</th>\n",
       "      <td>1</td>\n",
       "      <td>1</td>\n",
       "      <td>INTERNAT0001</td>\n",
       "      <td>International</td>\n",
       "      <td>1</td>\n",
       "      <td>b'\\x01'</td>\n",
       "      <td>b'\\x01'</td>\n",
       "      <td>2002-02-25</td>\n",
       "      <td>683 Larch Ct.</td>\n",
       "      <td>None</td>\n",
       "      <td>Salt Lake City</td>\n",
       "      <td>84101</td>\n",
       "      <td>2002-02-25</td>\n",
       "      <td>Julia</td>\n",
       "      <td>None</td>\n",
       "      <td>Moseley</td>\n",
       "      <td>julia0@adventure-works.com</td>\n",
       "      <td>432-555-0100</td>\n",
       "      <td>Assistant Sales Agent</td>\n",
       "      <td>2002-02-25</td>\n",
       "    </tr>\n",
       "    <tr>\n",
       "      <th>1</th>\n",
       "      <td>2</td>\n",
       "      <td>2</td>\n",
       "      <td>ELECTRON0002</td>\n",
       "      <td>Electronic Bike Repair &amp; Supplies</td>\n",
       "      <td>1</td>\n",
       "      <td>b'\\x01'</td>\n",
       "      <td>b'\\x01'</td>\n",
       "      <td>2002-02-17</td>\n",
       "      <td>8547 Catherine Way</td>\n",
       "      <td>None</td>\n",
       "      <td>Tacoma</td>\n",
       "      <td>98403</td>\n",
       "      <td>2002-02-17</td>\n",
       "      <td>Sean</td>\n",
       "      <td>None</td>\n",
       "      <td>Purcell</td>\n",
       "      <td>sean5@adventure-works.com</td>\n",
       "      <td>130-555-0100</td>\n",
       "      <td>Assistant Sales Agent</td>\n",
       "      <td>2002-02-17</td>\n",
       "    </tr>\n",
       "  </tbody>\n",
       "</table>\n",
       "</div>"
      ],
      "text/plain": [
       "   VendorKey  VendorID AccountNumber                         VendorName  \\\n",
       "0          1         1  INTERNAT0001                      International   \n",
       "1          2         2  ELECTRON0002  Electronic Bike Repair & Supplies   \n",
       "\n",
       "   CreditRating PreferredVendorStatus ActiveFlag VendorModifiedDate  \\\n",
       "0             1               b'\\x01'    b'\\x01'         2002-02-25   \n",
       "1             1               b'\\x01'    b'\\x01'         2002-02-17   \n",
       "\n",
       "         AddressLine1 AddressLine2            City PostalCode  \\\n",
       "0       683 Larch Ct.         None  Salt Lake City      84101   \n",
       "1  8547 Catherine Way         None          Tacoma      98403   \n",
       "\n",
       "  AddressModifiedDate FirstName MiddleName LastName  \\\n",
       "0          2002-02-25     Julia       None  Moseley   \n",
       "1          2002-02-17      Sean       None  Purcell   \n",
       "\n",
       "                 EmailAddress         Phone        ContactTypeName  \\\n",
       "0  julia0@adventure-works.com  432-555-0100  Assistant Sales Agent   \n",
       "1   sean5@adventure-works.com  130-555-0100  Assistant Sales Agent   \n",
       "\n",
       "  ContactModifiedDate  \n",
       "0          2002-02-25  \n",
       "1          2002-02-17  "
      ]
     },
     "execution_count": 14,
     "metadata": {},
     "output_type": "execute_result"
    }
   ],
   "source": [
    "# Drop redundant/irrelevant columns\n",
    "df_vendor.drop(columns=[\n",
    "    'PurchasingWebServiceURL',\n",
    "    'AddressID',\n",
    "    'AddressTypeID',\n",
    "    'AddressModifiedDate',\n",
    "    'ContactID',\n",
    "    'ContactTypeID',\n",
    "    'ContactModifiedDate'\n",
    "], inplace=True)\n",
    "\n",
    "# Rename columns \n",
    "df_vendor = df_vendor.rename(columns={\n",
    "    'VendorContactModifiedDate': 'ContactModifiedDate',\n",
    "    'VendorAddressModifiedDate': 'AddressModifiedDate',\n",
    "    'ConactTypeName':'ContactType'\n",
    "})\n",
    "\n",
    "# Reorder columns\n",
    "ordered_cols = [\n",
    "    \"VendorID\",\n",
    "    \"AccountNumber\",\n",
    "    \"VendorName\",\n",
    "    \"CreditRating\",\n",
    "    \"PreferredVendorStatus\",\n",
    "    \"ActiveFlag\",\n",
    "    \"VendorModifiedDate\",\n",
    "    \"AddressLine1\",\n",
    "    \"AddressLine2\",\n",
    "    \"City\",\n",
    "    \"PostalCode\",\n",
    "    \"AddressModifiedDate\",\n",
    "    \"FirstName\",\n",
    "    \"MiddleName\",\n",
    "    \"LastName\",\n",
    "    \"EmailAddress\",\n",
    "    \"Phone\",\n",
    "    \"ContactTypeName\",\n",
    "    \"ContactModifiedDate\"\n",
    "]\n",
    "\n",
    "df_vendor = df_vendor[ordered_cols]\n",
    "\n",
    "# 3. Insert a new column, with an ever-incrementing numeric value, to serve as the primary key.\n",
    "df_vendor.insert(0, \"VendorKey\", range(1, df_vendor.shape[0] + 1))\n",
    "df_vendor.head(2)"
   ]
  },
  {
   "cell_type": "markdown",
   "id": "cd2d13c7",
   "metadata": {},
   "source": [
    "#### Export data resulting from SQL query to CSV"
   ]
  },
  {
   "cell_type": "code",
   "execution_count": 15,
   "id": "34329209",
   "metadata": {},
   "outputs": [],
   "source": [
    "df_vendor.to_csv('dim_vendors.csv', index=False)"
   ]
  },
  {
   "cell_type": "markdown",
   "id": "8312b67c",
   "metadata": {},
   "source": [
    "#### Load step: Upload CSV data of vendor dimension into AdventureWorks data warehouse"
   ]
  },
  {
   "cell_type": "code",
   "execution_count": 16,
   "id": "4b234be7",
   "metadata": {},
   "outputs": [],
   "source": [
    "df_dim_vendors = pd.read_csv('dim_vendors.csv')\n",
    "dataframe = df_dim_vendors\n",
    "table_name = 'dim_vendors'\n",
    "primary_key = 'VendorKey'\n",
    "db_operation = \"insert\"\n",
    "\n",
    "set_dataframe(dataframe, table_name, primary_key, db_operation, **dst_mysql_args)"
   ]
  },
  {
   "cell_type": "markdown",
   "id": "011167f6",
   "metadata": {},
   "source": [
    "#### Validate that vendor dimension table was created"
   ]
  },
  {
   "cell_type": "code",
   "execution_count": 17,
   "id": "c885938a",
   "metadata": {},
   "outputs": [
    {
     "data": {
      "text/html": [
       "<div>\n",
       "<style scoped>\n",
       "    .dataframe tbody tr th:only-of-type {\n",
       "        vertical-align: middle;\n",
       "    }\n",
       "\n",
       "    .dataframe tbody tr th {\n",
       "        vertical-align: top;\n",
       "    }\n",
       "\n",
       "    .dataframe thead th {\n",
       "        text-align: right;\n",
       "    }\n",
       "</style>\n",
       "<table border=\"1\" class=\"dataframe\">\n",
       "  <thead>\n",
       "    <tr style=\"text-align: right;\">\n",
       "      <th></th>\n",
       "      <th>VendorKey</th>\n",
       "      <th>VendorID</th>\n",
       "      <th>AccountNumber</th>\n",
       "      <th>VendorName</th>\n",
       "      <th>CreditRating</th>\n",
       "      <th>PreferredVendorStatus</th>\n",
       "      <th>ActiveFlag</th>\n",
       "      <th>VendorModifiedDate</th>\n",
       "      <th>AddressLine1</th>\n",
       "      <th>AddressLine2</th>\n",
       "      <th>City</th>\n",
       "      <th>PostalCode</th>\n",
       "      <th>AddressModifiedDate</th>\n",
       "      <th>FirstName</th>\n",
       "      <th>MiddleName</th>\n",
       "      <th>LastName</th>\n",
       "      <th>EmailAddress</th>\n",
       "      <th>Phone</th>\n",
       "      <th>ContactTypeName</th>\n",
       "      <th>ContactModifiedDate</th>\n",
       "    </tr>\n",
       "  </thead>\n",
       "  <tbody>\n",
       "    <tr>\n",
       "      <th>0</th>\n",
       "      <td>1</td>\n",
       "      <td>1</td>\n",
       "      <td>INTERNAT0001</td>\n",
       "      <td>International</td>\n",
       "      <td>1</td>\n",
       "      <td>b'\\x01'</td>\n",
       "      <td>b'\\x01'</td>\n",
       "      <td>2002-02-25</td>\n",
       "      <td>683 Larch Ct.</td>\n",
       "      <td>None</td>\n",
       "      <td>Salt Lake City</td>\n",
       "      <td>84101</td>\n",
       "      <td>2002-02-25</td>\n",
       "      <td>Julia</td>\n",
       "      <td>None</td>\n",
       "      <td>Moseley</td>\n",
       "      <td>julia0@adventure-works.com</td>\n",
       "      <td>432-555-0100</td>\n",
       "      <td>Assistant Sales Agent</td>\n",
       "      <td>2002-02-25</td>\n",
       "    </tr>\n",
       "    <tr>\n",
       "      <th>1</th>\n",
       "      <td>2</td>\n",
       "      <td>2</td>\n",
       "      <td>ELECTRON0002</td>\n",
       "      <td>Electronic Bike Repair &amp; Supplies</td>\n",
       "      <td>1</td>\n",
       "      <td>b'\\x01'</td>\n",
       "      <td>b'\\x01'</td>\n",
       "      <td>2002-02-17</td>\n",
       "      <td>8547 Catherine Way</td>\n",
       "      <td>None</td>\n",
       "      <td>Tacoma</td>\n",
       "      <td>98403</td>\n",
       "      <td>2002-02-17</td>\n",
       "      <td>Sean</td>\n",
       "      <td>None</td>\n",
       "      <td>Purcell</td>\n",
       "      <td>sean5@adventure-works.com</td>\n",
       "      <td>130-555-0100</td>\n",
       "      <td>Assistant Sales Agent</td>\n",
       "      <td>2002-02-17</td>\n",
       "    </tr>\n",
       "  </tbody>\n",
       "</table>\n",
       "</div>"
      ],
      "text/plain": [
       "   VendorKey  VendorID AccountNumber                         VendorName  \\\n",
       "0          1         1  INTERNAT0001                      International   \n",
       "1          2         2  ELECTRON0002  Electronic Bike Repair & Supplies   \n",
       "\n",
       "   CreditRating PreferredVendorStatus ActiveFlag VendorModifiedDate  \\\n",
       "0             1               b'\\x01'    b'\\x01'         2002-02-25   \n",
       "1             1               b'\\x01'    b'\\x01'         2002-02-17   \n",
       "\n",
       "         AddressLine1 AddressLine2            City  PostalCode  \\\n",
       "0       683 Larch Ct.         None  Salt Lake City       84101   \n",
       "1  8547 Catherine Way         None          Tacoma       98403   \n",
       "\n",
       "  AddressModifiedDate FirstName MiddleName LastName  \\\n",
       "0          2002-02-25     Julia       None  Moseley   \n",
       "1          2002-02-17      Sean       None  Purcell   \n",
       "\n",
       "                 EmailAddress         Phone        ContactTypeName  \\\n",
       "0  julia0@adventure-works.com  432-555-0100  Assistant Sales Agent   \n",
       "1   sean5@adventure-works.com  130-555-0100  Assistant Sales Agent   \n",
       "\n",
       "  ContactModifiedDate  \n",
       "0          2002-02-25  \n",
       "1          2002-02-17  "
      ]
     },
     "execution_count": 17,
     "metadata": {},
     "output_type": "execute_result"
    }
   ],
   "source": [
    "sql_vendors = \"SELECT * FROM adventureworks_dw.dim_vendors;\"\n",
    "df_dim_verify_vendors = get_sql_dataframe(sql_vendors, **dst_mysql_args)\n",
    "df_dim_verify_vendors.head(2)"
   ]
  },
  {
   "cell_type": "code",
   "execution_count": null,
   "id": "5dd089c5",
   "metadata": {},
   "outputs": [],
   "source": []
  }
 ],
 "metadata": {
  "kernelspec": {
   "display_name": "Python 3",
   "language": "python",
   "name": "python3"
  },
  "language_info": {
   "codemirror_mode": {
    "name": "ipython",
    "version": 3
   },
   "file_extension": ".py",
   "mimetype": "text/x-python",
   "name": "python",
   "nbconvert_exporter": "python",
   "pygments_lexer": "ipython3",
   "version": "3.8.8"
  }
 },
 "nbformat": 4,
 "nbformat_minor": 5
}
